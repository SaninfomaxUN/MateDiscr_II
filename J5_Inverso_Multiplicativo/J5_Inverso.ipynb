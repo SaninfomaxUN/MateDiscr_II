{
 "cells": [
  {
   "cell_type": "markdown",
   "source": [
    "<h1>Taller #5: Algoritmo para hallar la inversa de un número entero:    a modulo n.</h1>"
   ],
   "metadata": {
    "collapsed": false
   }
  },
  {
   "cell_type": "markdown",
   "source": [
    "<h4> Presentado por: David Santiago Cruz Hernandez</h4>\n",
    "<h4> Asignatura: Matemáticas Discretas II </h4>"
   ],
   "metadata": {
    "collapsed": false
   }
  },
  {
   "cell_type": "code",
   "execution_count": 1,
   "outputs": [],
   "source": [
    "def bold(str):\n",
    "    return \"\\033[1m\" + str + \"\\033[0m\""
   ],
   "metadata": {
    "collapsed": false
   }
  },
  {
   "cell_type": "code",
   "execution_count": 2,
   "outputs": [],
   "source": [
    "def printYellow(str):\n",
    "    return \"\\033[93m\" + str + \"\\033[0m\""
   ],
   "metadata": {
    "collapsed": false
   }
  },
  {
   "cell_type": "code",
   "execution_count": 3,
   "outputs": [],
   "source": [
    "import math\n",
    "import sys\n",
    "from copy import deepcopy\n",
    "\n",
    "DicResiduos = {}\n",
    "igualdadBase = []\n",
    "def ingresarDatos():\n",
    "    global A\n",
    "    global N\n",
    "    global CoPrimos\n",
    "    global DicResiduos\n",
    "    global igualdadBase\n",
    "    CoPrimos = False\n",
    "    DicResiduos = {}\n",
    "    igualdadBase = []\n",
    "    A = int(input(\"Ingrese el número entero A:\"))\n",
    "    N = int(input(\"Ingrese el número entero n:\"))\n",
    "    print(printYellow(\"   --- Algoritmo para hallar el Inverso Multiplicativo de \" + bold(str(A) + \" mod \" + str(N) + \". ---   \"))  + \"\\n\\n \" )"
   ],
   "metadata": {
    "collapsed": false
   }
  },
  {
   "cell_type": "code",
   "execution_count": 4,
   "outputs": [],
   "source": [
    "def printRed(str):\n",
    "    return \"\\033[91m\" + str + \"\\033[0m\""
   ],
   "metadata": {
    "collapsed": false
   }
  },
  {
   "cell_type": "code",
   "execution_count": 5,
   "outputs": [],
   "source": [
    "def imprimirAlgoritmo(a,q,b,r):\n",
    "    if r == 0:\n",
    "        print(str(a) + \" = \" + str(q) + \"•\" + str(b) + \" + \" + bold(str(r)))\n",
    "    elif b%r == 0:\n",
    "        print(str(a) + \" = \" + str(q) + \"•\" + str(b) + \" + \" + printYellow(str(r)))\n",
    "    else:\n",
    "        print(str(a) + \" = \" + str(q) + \"•\" + str(b) + \" + \" + str(r))"
   ],
   "metadata": {
    "collapsed": false
   }
  },
  {
   "cell_type": "markdown",
   "source": [
    "<h4>Algoritmo de la División: </h4>\n",
    "<h5> a = q•n + r, </h5>\n",
    "<h5> donde a, q, n son enteros, y 0 ≤ r &lt n. </h5>"
   ],
   "metadata": {
    "collapsed": false
   }
  },
  {
   "cell_type": "code",
   "execution_count": 6,
   "outputs": [],
   "source": [
    "def algoritmoDivision(a,b):\n",
    "    q = math.trunc(a/b)\n",
    "    r = a - q*b\n",
    "    imprimirAlgoritmo(a,q,b,r)\n",
    "    insertarMatriz(a,q,b,r)\n",
    "    return b,r"
   ],
   "metadata": {
    "collapsed": false
   }
  },
  {
   "cell_type": "markdown",
   "source": [
    "<h4>Algoritmo de euclides: </h4>\n",
    "<h5>Permite calcular el Máximo Común Divisor de 2 números enteros, por medio del algoritmo de la división. </h5>"
   ],
   "metadata": {
    "collapsed": false
   }
  },
  {
   "cell_type": "code",
   "execution_count": 7,
   "outputs": [],
   "source": [
    "def algoritmoEuclides():\n",
    "    print(bold(\"    ALGORITMO DE EUCLIDES    \"))\n",
    "    print(bold(\"Algoritmo de la División:\") + \" a = q•n + r\\n\")\n",
    "    print(bold(\"a = \") + str(A) + \", \" + bold(\"n = \") + str(N)+\"\\n\")\n",
    "    a,b = algoritmoDivision(A,N)\n",
    "    while b != 0:\n",
    "        a,b = algoritmoDivision(a,b)\n",
    "    print(\"\\n\" + bold(\"El Máximo Común Divisor entre \" + str(A) + \" y \" + str(N) + \" es: \") + printYellow(str(a)) + \".\")\n",
    "    #print(DicResiduos)\n",
    "    #print(igualdadBase)\n",
    "    comprobarCoPrimos()"
   ],
   "metadata": {
    "collapsed": false
   }
  },
  {
   "cell_type": "markdown",
   "source": [
    "<h4>Si a y n son CoPrimos (mcd(a,n) = 1), entonces SI existe el Inverso Multiplicativo. </h4>\n",
    "<h5>Si NO son CoPrimos, entonces NO existe el Inverso Multiplicativo. </h5>"
   ],
   "metadata": {
    "collapsed": false
   }
  },
  {
   "cell_type": "code",
   "execution_count": 8,
   "outputs": [],
   "source": [
    "def comprobarCoPrimos():\n",
    "    global CoPrimos\n",
    "    if not CoPrimos:\n",
    "        print(printYellow(\"Los números enteros ingresados NO son CoPrimos.\"))\n",
    "        print(printYellow(\"Por lo tanto, \" + bold(\"NO\")) + printYellow(\" existen Inversos Multiplicativos para \" + bold(str(A) + \" mod \" + str(N))  ))\n",
    "        print(printRed(\" -------- FIN --------\"))\n",
    "        sys.exit(0)\n",
    "    else:\n",
    "        print(\"Por lo tanto,\" + bold(\" SI son \") + printYellow(\"CoPrimos\") + \".\\n\\n\\n\")"
   ],
   "metadata": {
    "collapsed": false
   }
  },
  {
   "cell_type": "code",
   "execution_count": 9,
   "outputs": [],
   "source": [
    "def insertarMatriz(a,q,b,r):\n",
    "    if r>=1:\n",
    "        DicResiduos[r] = [a,q,b]\n",
    "        if r==1:\n",
    "            global igualdadBase\n",
    "            global CoPrimos\n",
    "            igualdadBase =[r,[1,a],[q,b]]\n",
    "            CoPrimos = True\n"
   ],
   "metadata": {
    "collapsed": false
   }
  },
  {
   "cell_type": "markdown",
   "source": [
    "<h4>    Identidad de Bezout</h4>\n",
    "<h5>Permite expresar el residuo r como:</h5>\n",
    "<h5>r = a•v + k•n</h5>\n",
    "\n"
   ],
   "metadata": {
    "collapsed": false
   }
  },
  {
   "cell_type": "code",
   "execution_count": 10,
   "outputs": [],
   "source": [
    "def sustitucionAtras():\n",
    "    print(bold(\"    IDENTIDAD DE BEZOUT    \\n\"))\n",
    "    #print(bold(\" Identidad de Bezout: \\n\"))\n",
    "    residuos = list(DicResiduos.keys())\n",
    "    residuos.remove(1)\n",
    "    for residuo in reversed(residuos):\n",
    "        identidadBezout(residuo)\n"
   ],
   "metadata": {
    "collapsed": false
   }
  },
  {
   "cell_type": "code",
   "execution_count": 11,
   "outputs": [],
   "source": [
    "def identidadBezout(residuo):\n",
    "    sustitucion = DicResiduos[residuo]\n",
    "    # if residuo == igualdadBase[1][1]:\n",
    "    #     igualdadBase[2][0] = igualdadBase[2][0] + igualdadBase[1][0]*sustitucion[1]\n",
    "    #     igualdadBase[1][1] = sustitucion[0]\n",
    "    # else:\n",
    "    #     igualdadBase[1][0] = igualdadBase[1][0] + igualdadBase[2][0]*sustitucion[1]\n",
    "    #     igualdadBase[2][1] = sustitucion[0]\n",
    "    opc1 = 0\n",
    "    opc2 = 0\n",
    "    if residuo == igualdadBase[1][1]:\n",
    "        opc1 = 2\n",
    "        opc2 = 1\n",
    "    else:\n",
    "        opc1 = 1\n",
    "        opc2 = 2\n",
    "    igualdadAntigua = deepcopy(igualdadBase)\n",
    "    igualdadBase[opc1][0] = igualdadBase[opc1][0] + igualdadBase[opc2][0]*sustitucion[1]\n",
    "    igualdadBase[opc2][1] = sustitucion[0]\n",
    "    #print(sustitucion)\n",
    "    #print(igualdadBase)\n",
    "    imprimirIgualdadBase(igualdadAntigua,igualdadBase, sustitucion, opc2)"
   ],
   "metadata": {
    "collapsed": false
   }
  },
  {
   "cell_type": "code",
   "execution_count": 12,
   "outputs": [],
   "source": [
    "def imprimirIgualdadBase(igualdadAntigua, igualdadBase, sustitucion, opc2):\n",
    "    if opc2 == 1:\n",
    "        sustitucion = str(igualdadAntigua[1][0]) + \" [\" + str(sustitucion[0]) + \" - \" + str(sustitucion[1]) + \"•\" + str(sustitucion[2]) + \"] - \" + str(igualdadAntigua[2][0]) + \" (\" + str(igualdadAntigua[2][1]) + \")\"\n",
    "    else:\n",
    "        sustitucion = str(igualdadAntigua[1][0]) + \" (\" + str(igualdadAntigua[1][1]) + \") - \" + str(igualdadAntigua[2][0]) + \" [\" + str(sustitucion[0]) + \" - \" + str(sustitucion[1]) + \"•\" + str(sustitucion[2]) + \"]\"\n",
    "    print(bold(str(igualdadBase[0]) + \" = \")  + sustitucion\n",
    "          + bold( \"    =    \")  + str(igualdadBase[1][0]) + \" (\" + str(igualdadBase[1][1]) + \") - \" + str(igualdadBase[2][0]) + \" (\" + str(igualdadBase[2][1]) + \")\\n\")"
   ],
   "metadata": {
    "collapsed": false
   }
  },
  {
   "cell_type": "markdown",
   "source": [
    "<h5>Como r = 1 (debido a que a y n son CoPrimos), entonces se tiene que: </h5>\n",
    "<h5>1 = a•v + k•n  </h5>\n",
    "<h5>a•v = 1 - k•n  </h5>\n",
    "<h5>a•v ≅ 1 mod n  </h5>\n",
    "<h5>donde v es el Inverso Multiplicativo de a mod n</h5>\n"
   ],
   "metadata": {
    "collapsed": false
   }
  },
  {
   "cell_type": "code",
   "execution_count": 13,
   "outputs": [],
   "source": [
    "def obtenerInverso():\n",
    "    inversa = 0\n",
    "    if A == igualdadBase[1][1]:\n",
    "        inversa = igualdadBase[1][0]\n",
    "    elif A == igualdadBase[2][1]:\n",
    "        inversa = -igualdadBase[2][0]\n",
    "    if inversa<0:\n",
    "        print(\"\\n     → Como se debe tomar el Inverso a partir del residuo minimo, entonces se calcula el Inverso mínimo congruente:\\n\")\n",
    "        inversaOrig = inversa\n",
    "        inversa = inversa + N\n",
    "        print(\"           \"+str(A) + \" (\" +  str(inversaOrig) + \")  ≅  \" + str(A) + printYellow(\" (\" +  str(inversaOrig) + \" + \" + str(N) + \")\") + \"  ≅  \" + str(A) + printYellow(\" (\" +  str(inversaOrig + N) + \")\") +   \" mod \" +  str(N))\n",
    "    print(printYellow(\"\\n   ---  La inversa de \" + str(A) + \" mod \" + str(N) + \" es: \" + bold(str(inversa)) + \"  ---\") )\n",
    "    print()\n",
    "    print(bold(\"COMPROBACIÓN:       \") +str(A) + printYellow( \" (\" + str(inversa) + \")\") + \" ≅ 1 mod \" + str(N) + \" ✅\" )"
   ],
   "metadata": {
    "collapsed": false
   }
  },
  {
   "cell_type": "code",
   "execution_count": 14,
   "outputs": [
    {
     "name": "stdout",
     "output_type": "stream",
     "text": [
      "\u001B[93m   --- Algoritmo para hallar el Inverso Multiplicativo de \u001B[1m47 mod 192. ---   \u001B[0m\u001B[0m\n",
      "\n",
      " \n",
      "\u001B[1m    ALGORITMO DE EUCLIDES    \u001B[0m\n",
      "\u001B[1mAlgoritmo de la División:\u001B[0m a = q•n + r\n",
      "\n",
      "\u001B[1ma = \u001B[0m47, \u001B[1mn = \u001B[0m192\n",
      "\n",
      "47 = 0•192 + 47\n",
      "192 = 4•47 + 4\n",
      "47 = 11•4 + 3\n",
      "4 = 1•3 + \u001B[93m1\u001B[0m\n",
      "3 = 3•1 + \u001B[1m0\u001B[0m\n",
      "\n",
      "\u001B[1mEl Máximo Común Divisor entre 47 y 192 es: \u001B[0m\u001B[93m1\u001B[0m.\n",
      "Por lo tanto,\u001B[1m SI son \u001B[0m\u001B[93mCoPrimos\u001B[0m.\n",
      "\n",
      "\n",
      "\n",
      "\u001B[1m    IDENTIDAD DE BEZOUT    \n",
      "\u001B[0m\n",
      "\u001B[1m1 = \u001B[0m1 (4) - 1 [47 - 11•4]\u001B[1m    =    \u001B[0m12 (4) - 1 (47)\n",
      "\n",
      "\u001B[1m1 = \u001B[0m12 [192 - 4•47] - 1 (47)\u001B[1m    =    \u001B[0m12 (192) - 49 (47)\n",
      "\n",
      "\u001B[1m1 = \u001B[0m12 (192) - 49 [47 - 0•192]\u001B[1m    =    \u001B[0m12 (192) - 49 (47)\n",
      "\n",
      "\n",
      "     → Como se debe tomar el Inverso a partir del residuo minimo, entonces se calcula el Inverso mínimo congruente:\n",
      "\n",
      "           47 (-49)  ≅  47\u001B[93m (-49 + 192)\u001B[0m  ≅  47\u001B[93m (143)\u001B[0m mod 192\n",
      "\u001B[93m\n",
      "   ---  La inversa de 47 mod 192 es: \u001B[1m143\u001B[0m  ---\u001B[0m\n",
      "\n",
      "\u001B[1mCOMPROBACIÓN:       \u001B[0m47\u001B[93m (143)\u001B[0m ≅ 1 mod 192 ✅\n"
     ]
    }
   ],
   "source": [
    "ingresarDatos()\n",
    "algoritmoEuclides()\n",
    "sustitucionAtras()\n",
    "obtenerInverso()"
   ],
   "metadata": {
    "collapsed": false
   }
  },
  {
   "cell_type": "code",
   "execution_count": 15,
   "outputs": [],
   "source": [],
   "metadata": {
    "collapsed": false
   }
  }
 ],
 "metadata": {
  "kernelspec": {
   "display_name": "Python 3",
   "language": "python",
   "name": "python3"
  },
  "language_info": {
   "codemirror_mode": {
    "name": "ipython",
    "version": 2
   },
   "file_extension": ".py",
   "mimetype": "text/x-python",
   "name": "python",
   "nbconvert_exporter": "python",
   "pygments_lexer": "ipython2",
   "version": "2.7.6"
  }
 },
 "nbformat": 4,
 "nbformat_minor": 0
}
