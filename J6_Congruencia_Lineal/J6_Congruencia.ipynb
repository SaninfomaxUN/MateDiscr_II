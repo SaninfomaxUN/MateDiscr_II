{
 "cells": [
  {
   "cell_type": "markdown",
   "source": [
    "<h1>Taller #6: Algoritmo para calcular la Congruencia Lineal: a•X ≅ b modulo n .</h1>"
   ],
   "metadata": {
    "collapsed": false
   }
  },
  {
   "cell_type": "markdown",
   "source": [
    "<h4> Presentado por: David Santiago Cruz Hernandez</h4>\n",
    "<h4> Asignatura: Matemáticas Discretas II </h4>"
   ],
   "metadata": {
    "collapsed": false
   }
  },
  {
   "cell_type": "code",
   "execution_count": null,
   "outputs": [],
   "source": [
    "import math\n",
    "import sys\n",
    "from copy import deepcopy\n",
    "\n",
    "DicResiduos = {}\n",
    "igualdadBase = []\n",
    "Inverso = 0\n",
    "CoPrimos = False\n",
    "MCD = 0\n",
    "A = 0\n",
    "B = 0\n",
    "N = 0\n",
    "X = 0\n",
    "def ingresarDatos():\n",
    "    global A\n",
    "    global B\n",
    "    global N\n",
    "    global X\n",
    "    global CoPrimos\n",
    "    global Inverso\n",
    "    global DicResiduos\n",
    "    global igualdadBase\n",
    "    global MCD\n",
    "    CoPrimos = False\n",
    "    MCD = 0\n",
    "    DicResiduos = {}\n",
    "    igualdadBase = []\n",
    "    A = int(input(\"Ingrese el número entero A:\"))\n",
    "    B = int(input(\"Ingrese el número entero B:\"))\n",
    "    N = int(input(\"Ingrese el número entero n:\"))\n",
    "    X = 0\n",
    "    print(printYellow(\"   --- Algoritmo para hallar la Congruencia Lineal: \" + bold(str(A) + \"X ≅ \" + str(B) + \" mod \" + str(N) + \". ---   \"))  + \"\\n\\n \" )"
   ],
   "metadata": {
    "collapsed": false
   }
  },
  {
   "cell_type": "code",
   "execution_count": null,
   "outputs": [],
   "source": [
    "def bold(str):\n",
    "    return \"\\033[1m\" + str + \"\\033[0m\""
   ],
   "metadata": {
    "collapsed": false
   }
  },
  {
   "cell_type": "code",
   "execution_count": null,
   "outputs": [],
   "source": [
    "def printYellow(str):\n",
    "    return \"\\033[93m\" + str + \"\\033[0m\""
   ],
   "metadata": {
    "collapsed": false
   }
  },
  {
   "cell_type": "code",
   "execution_count": null,
   "outputs": [],
   "source": [
    "def printRed(str):\n",
    "    return \"\\033[91m\" + str + \"\\033[0m\""
   ],
   "metadata": {
    "collapsed": false
   }
  },
  {
   "cell_type": "markdown",
   "source": [
    "<h4>Algoritmo de la División: </h4>\n",
    "<h5> a = q•n + r, </h5>\n",
    "<h5> donde a, q, n son enteros, y 0 ≤ r &lt n. </h5>"
   ],
   "metadata": {
    "collapsed": false
   }
  },
  {
   "cell_type": "code",
   "execution_count": null,
   "outputs": [],
   "source": [
    "def algoritmoDivision(a, n, alt = False):\n",
    "    q = math.trunc(a / n)\n",
    "    r = a - q * n\n",
    "    if not alt:\n",
    "        imprimirAlgoritmo(a, q, n, r)\n",
    "    else:\n",
    "        imprimirAlgoritmoAlt(a, q, n, r)\n",
    "    insertarMatriz(a, q, n, r)\n",
    "    return n,r"
   ],
   "metadata": {
    "collapsed": false
   }
  },
  {
   "cell_type": "code",
   "execution_count": null,
   "outputs": [],
   "source": [
    "def imprimirAlgoritmo(a,q,b,r):\n",
    "    if r == 0:\n",
    "        print(str(a) + \" = \" + str(q) + \"•\" + str(b) + \" + \" + bold(str(r)))\n",
    "    elif b%r == 0:\n",
    "        print(str(a) + \" = \" + str(q) + \"•\" + str(b) + \" + \" + printYellow(str(r)))\n",
    "    else:\n",
    "        print(str(a) + \" = \" + str(q) + \"•\" + str(b) + \" + \" + str(r))"
   ],
   "metadata": {
    "collapsed": false
   }
  },
  {
   "cell_type": "code",
   "execution_count": null,
   "outputs": [],
   "source": [
    "def imprimirAlgoritmoAlt(a,q,b,r):\n",
    "    if B != r:\n",
    "        print(str(a) + \" = \" + str(q) + \"•\" + str(b) + \" + \" + str(r) + \"  ❌\")\n",
    "    else:\n",
    "        print(str(a) + \" = \" + str(q) + \"•\" + str(b) + \" + \" + printYellow(str(r))+ \"  ✅\")"
   ],
   "metadata": {
    "collapsed": false
   }
  },
  {
   "cell_type": "markdown",
   "source": [
    "<h4>Algoritmo de euclides: </h4>\n",
    "<h5>Permite calcular el Máximo Común Divisor de 2 números enteros, por medio del algoritmo de la división. </h5>"
   ],
   "metadata": {
    "collapsed": false
   }
  },
  {
   "cell_type": "code",
   "execution_count": null,
   "outputs": [],
   "source": [
    "def algoritmoEuclides():\n",
    "    global MCD\n",
    "    print(bold(\"    ALGORITMO DE EUCLIDES    \"))\n",
    "    print(bold(\"Algoritmo de la División:\") + \" a = q•n + r\\n\")\n",
    "    print(bold(\"a = \") + str(A) + \", \" + bold(\"n = \") + str(N)+\"\\n\")\n",
    "    a,b = algoritmoDivision(A,N)\n",
    "    while b != 0:\n",
    "        a,b = algoritmoDivision(a,b)\n",
    "    MCD = a\n",
    "    print(\"\\n\" + bold(\"El Máximo Común Divisor entre \" + str(A) + \" y \" + str(N) + \" es: \") + printYellow(str(MCD)) + \".\")\n",
    "    #print(DicResiduos)\n",
    "    #print(igualdadBase)\n"
   ],
   "metadata": {
    "collapsed": false
   }
  },
  {
   "cell_type": "markdown",
   "source": [
    "<h4>Para saber si existe la Congruencia Lineal, se debe cumplir alguno de los dos casos: </h4>\n",
    "<h5>De lo contrario, no existe solución.</h5>"
   ],
   "metadata": {
    "collapsed": false
   }
  },
  {
   "cell_type": "code",
   "execution_count": null,
   "outputs": [],
   "source": [
    "def definirCaso():\n",
    "    comprobarCoPrimos()\n",
    "    if CoPrimos:\n",
    "        Caso1()\n",
    "    elif Caso2():\n",
    "        hallarSolucion()\n",
    "    else:\n",
    "        print(printYellow(\"No se cumple ningun caso.\\n\"))\n",
    "        print(printYellow(\"Por lo tanto, NO existe solución para \" + bold(str(A) + \" X ≅ \" + \"b\" + \" mod \" + str(N))))\n",
    "        print(printRed(\" -------- FIN --------\"))\n",
    "        sys.exit(bold(\"NO EXISTE SOLUCIÓN.\"))"
   ],
   "metadata": {
    "collapsed": false
   }
  },
  {
   "cell_type": "markdown",
   "source": [
    "<h4>Si a y n son CoPrimos (mcd(a,n) = 1), entonces SI existe el Inverso Multiplicativo. </h4>\n",
    "<h5>Si NO son CoPrimos, entonces NO existe el Inverso Multiplicativo. </h5>"
   ],
   "metadata": {
    "collapsed": false
   }
  },
  {
   "cell_type": "code",
   "execution_count": null,
   "outputs": [],
   "source": [
    "def comprobarCoPrimos():\n",
    "    global CoPrimos\n",
    "    if not CoPrimos:\n",
    "        print(printYellow(\"Los números enteros ingresados NO son CoPrimos.\"))\n",
    "        print(printYellow(\"Por lo tanto, \" + bold(\"NO\")) + printYellow(\" existen Inversos Multiplicativos para \" + bold(str(A) + \" mod \" + str(N)) + \".\\n\\n\\n\" ))\n",
    "    else:\n",
    "        print(\"Por lo tanto,\" + bold(\" SI son \") + printYellow(\"CoPrimos\") + \".\\n\\n\\n\")"
   ],
   "metadata": {
    "collapsed": false
   }
  },
  {
   "cell_type": "markdown",
   "source": [
    "<h4>CASO 1: Si a y n son CoPrimos, entonces se puede calcular como: </h4>\n",
    "<h5> X ≅ V•b mod a </h5>\n",
    "<h5> </h5>\n",
    "<h5> DEM: Si son CoPrimos, tiene Inverso. Asi que se multiplica por su Inverso a ambos lados:, </h5>\n",
    "<h5> a•X ≅ b mod a </h5>\n",
    "<h5>  ̷V̷•a̷ •X ≅ V•b mod a </h5>\n",
    "<h5> 1•X ≅ V•b mod a </h5>\n",
    "<h5> X ≅ V•b mod a </h5>"
   ],
   "metadata": {
    "collapsed": false
   }
  },
  {
   "cell_type": "code",
   "execution_count": null,
   "outputs": [],
   "source": [
    "def Caso1():\n",
    "    sustitucionAtras()\n",
    "    obtenerInverso()\n",
    "    calcularSolucionCaso1()"
   ],
   "metadata": {
    "collapsed": false
   }
  },
  {
   "cell_type": "code",
   "execution_count": null,
   "outputs": [],
   "source": [
    "def insertarMatriz(a,q,b,r):\n",
    "    if r>=1:\n",
    "        DicResiduos[r] = [a,q,b]\n",
    "        global igualdadBase\n",
    "        igualdadBase =[r,[1,a],[q,b]]\n",
    "        if r==1:\n",
    "            global CoPrimos\n",
    "            CoPrimos = True"
   ],
   "metadata": {
    "collapsed": false
   }
  },
  {
   "cell_type": "markdown",
   "source": [
    "<h4>    Identidad de Bezout</h4>\n",
    "<h5>Permite expresar el residuo r como:</h5>\n",
    "<h5>r = a•v + k•n</h5>\n",
    "\n"
   ],
   "metadata": {
    "collapsed": false
   }
  },
  {
   "cell_type": "code",
   "execution_count": null,
   "outputs": [],
   "source": [
    "def sustitucionAtras():\n",
    "    print(bold(\"    IDENTIDAD DE BEZOUT    \\n\"))\n",
    "    #print(bold(\" Identidad de Bezout: \\n\"))\n",
    "    residuos = list(DicResiduos.keys())\n",
    "    del residuos[-1]\n",
    "    for residuo in reversed(residuos):\n",
    "        identidadBezout(residuo)"
   ],
   "metadata": {
    "collapsed": false
   }
  },
  {
   "cell_type": "code",
   "execution_count": null,
   "outputs": [],
   "source": [
    "def identidadBezout(residuo):\n",
    "    sustitucion = DicResiduos[residuo]\n",
    "    # if residuo == igualdadBase[1][1]:\n",
    "    #     igualdadBase[2][0] = igualdadBase[2][0] + igualdadBase[1][0]*sustitucion[1]\n",
    "    #     igualdadBase[1][1] = sustitucion[0]\n",
    "    # else:\n",
    "    #     igualdadBase[1][0] = igualdadBase[1][0] + igualdadBase[2][0]*sustitucion[1]\n",
    "    #     igualdadBase[2][1] = sustitucion[0]\n",
    "    if residuo == igualdadBase[1][1]:\n",
    "        opc1 = 2\n",
    "        opc2 = 1\n",
    "    else:\n",
    "        opc1 = 1\n",
    "        opc2 = 2\n",
    "    igualdadAntigua = deepcopy(igualdadBase)\n",
    "    igualdadBase[opc1][0] = igualdadBase[opc1][0] + igualdadBase[opc2][0]*sustitucion[1]\n",
    "    igualdadBase[opc2][1] = sustitucion[0]\n",
    "    #print(sustitucion)\n",
    "    #print(igualdadBase)\n",
    "    imprimirIgualdadBase(igualdadAntigua,igualdadBase, sustitucion, opc2)"
   ],
   "metadata": {
    "collapsed": false
   }
  },
  {
   "cell_type": "code",
   "execution_count": null,
   "outputs": [],
   "source": [
    "def imprimirIgualdadBase(igualdadAntigua, igualdadBase, sustitucion, opc2):\n",
    "    if opc2 == 1:\n",
    "        sustitucion = str(igualdadAntigua[1][0]) + \" [\" + str(sustitucion[0]) + \" - \" + str(sustitucion[1]) + \"•\" + str(sustitucion[2]) + \"] - \" + str(igualdadAntigua[2][0]) + \" (\" + str(igualdadAntigua[2][1]) + \")\"\n",
    "    else:\n",
    "        sustitucion = str(igualdadAntigua[1][0]) + \" (\" + str(igualdadAntigua[1][1]) + \") - \" + str(igualdadAntigua[2][0]) + \" [\" + str(sustitucion[0]) + \" - \" + str(sustitucion[1]) + \"•\" + str(sustitucion[2]) + \"]\"\n",
    "    print(bold(str(igualdadBase[0]) + \" = \")  + sustitucion\n",
    "          + bold( \"    =    \")  + str(igualdadBase[1][0]) + \" (\" + str(igualdadBase[1][1]) + \") - \" + str(igualdadBase[2][0]) + \" (\" + str(igualdadBase[2][1]) + \")\\n\")"
   ],
   "metadata": {
    "collapsed": false
   }
  },
  {
   "cell_type": "markdown",
   "source": [
    "<h5>Como r = 1 (debido a que a y n son CoPrimos), entonces se tiene que: </h5>\n",
    "<h5>1 = a•v + k•n  </h5>\n",
    "<h5>a•v = 1 - k•n  </h5>\n",
    "<h5>a•v ≅ 1 mod n  </h5>\n",
    "<h5>donde v es el Inverso Multiplicativo de a mod n</h5>\n"
   ],
   "metadata": {
    "collapsed": false
   }
  },
  {
   "cell_type": "code",
   "execution_count": null,
   "outputs": [],
   "source": [
    "def obtenerInverso():\n",
    "    global Inverso\n",
    "    Inverso = 0\n",
    "    if A == igualdadBase[1][1]:\n",
    "        Inverso = igualdadBase[1][0]\n",
    "    elif A == igualdadBase[2][1]:\n",
    "        Inverso = -igualdadBase[2][0]\n",
    "    if Inverso<0:\n",
    "        print(\"\\n     → Como se debe tomar el Inverso a partir del residuo minimo, entonces se calcula el Inverso mínimo congruente:\\n\")\n",
    "        inversaOrig = Inverso\n",
    "        Inverso = Inverso + N\n",
    "        print(\"           \"+str(A) + \" (\" +  str(inversaOrig) + \")  ≅  \" + str(A) + printYellow(\" (\" +  str(inversaOrig) + \" + \" + str(N) + \")\") + \"  ≅  \" + str(A) + printYellow(\" (\" +  str(inversaOrig + N) + \")\") +   \" mod \" +  str(N))\n",
    "    print(printYellow(\"\\n   ---  El inverso Multiplicativo de \" + str(A) + \" mod \" + str(N) + \" es: \" + bold(str(Inverso)) + \"  ---\") )\n",
    "    print()\n",
    "    print(bold(\"COMPROBACIÓN:       \") +str(A) + printYellow( \" (\" + str(Inverso) + \")\") + \" ≅ \" + str(MCD) + \" mod \" + str(N) + \" ✅\\n\\n\\n\" )"
   ],
   "metadata": {
    "collapsed": false
   }
  },
  {
   "cell_type": "code",
   "execution_count": null,
   "outputs": [],
   "source": [
    "def calcularSolucionCaso1():\n",
    "    print(bold(printYellow(\"    ---- CASO 1:    X ≅ \" + printYellow(\"V\") + \"•b mod n ---\\n\")))\n",
    "    global X\n",
    "    print(\"X ≅ \" + printYellow(str(Inverso)) + \"•\" + str(B) + \" mod \" + str(N))\n",
    "    print(\"X ≅ \" + str(Inverso*B) + \" mod \" + str(N)+\"\\n\")\n",
    "\n",
    "    print(\"Algoritmo de la División para: \"+ bold(str(Inverso*B) + \" mod \" + str(N)))\n",
    "    X = algoritmoDivision(Inverso*B, N)[1]\n",
    "\n",
    "    print(bold(printYellow(\"\\n SOLUCIÓN:   ---- X = \" + str(X) + \" ----\")))\n",
    "    print(bold(\"COMPROBACIÓN:       \") +str(A) + printYellow( \" (\" + str(X) + \")\") + \" ≅ \" + str(B) + \" mod \" + str(N) + \" ✅\\n\\n\\n\" )"
   ],
   "metadata": {
    "collapsed": false
   }
  },
  {
   "cell_type": "markdown",
   "source": [
    "<h4>CASO 2: Sea d el MCD de a y n, donde n>1, la congruencia lineal:  </h4>\n",
    "<h5> a•X ≅ b mod a </h5>\n",
    "<h5> tiene solución SOLO SI b es divisible por d. </h5>"
   ],
   "metadata": {
    "collapsed": false
   },
   "outputs": [
    {
     "ename": "SyntaxError",
     "evalue": "invalid character '•' (U+2022) (4058569619.py, line 2)",
     "output_type": "error",
     "traceback": [
      "\u001B[1;36m  Cell \u001B[1;32mIn[1], line 2\u001B[1;36m\u001B[0m\n\u001B[1;33m    <h5> X = V•b mod a </h5>\u001B[0m\n\u001B[1;37m              ^\u001B[0m\n\u001B[1;31mSyntaxError\u001B[0m\u001B[1;31m:\u001B[0m invalid character '•' (U+2022)\n"
     ]
    }
   ],
   "execution_count": 1
  },
  {
   "cell_type": "code",
   "execution_count": null,
   "outputs": [],
   "source": [
    "def Caso2():\n",
    "    if not simplificarExpresion():\n",
    "        return False\n",
    "    else:\n",
    "        return True"
   ],
   "metadata": {
    "collapsed": false
   }
  },
  {
   "cell_type": "code",
   "execution_count": null,
   "outputs": [],
   "source": [
    "def simplificarExpresion():\n",
    "    global A\n",
    "    global B\n",
    "    global N\n",
    "    print(bold(printYellow(\"    ---- CASO 2:  b es divisible por MCD(a,n) ?  ---\\n\")))\n",
    "    print(\"Algoritmo de la División para comprobar la Divisibilidad entre: \"+ bold(str(B)) + \" y \" + bold(str(MCD)))\n",
    "    if algoritmoDivision(B, MCD)[1] != 0:\n",
    "        return False\n",
    "    print()\n",
    "    print(bold(\" --- \" + printYellow(\"SI\") + \" es divisible. Asi que se simplifica la expresión:\"))\n",
    "\n",
    "    print( str(A)+\"X\" +bold(\"/\"+str(MCD)) + \" ≅ \" + \"b\"+bold(\"/\"+str(MCD)) + \" mod \" + str(N)+bold(\"/\"+str(MCD)) + \"\\n\")\n",
    "    A = int(A/MCD)\n",
    "    B = int(B/MCD)\n",
    "    N = int(N/MCD)\n",
    "    print(\"     \"+bold(str(A) + printYellow(\"X\")) + bold(\" ≅ \" + str(B) + \" mod \" + str(N)+ \"\\n\\n\"))\n",
    "    return True"
   ],
   "metadata": {
    "collapsed": false
   }
  },
  {
   "cell_type": "code",
   "execution_count": null,
   "outputs": [],
   "source": [
    "def hallarSolucion():\n",
    "    global X\n",
    "    residuo = 0\n",
    "    while residuo!=B:\n",
    "        X = X + 1\n",
    "        print(bold(str(A) + \"•\" + printYellow(str(X))) + bold(\" ≅ \" + str(B) + \" mod \" + str(N)))\n",
    "        residuo = algoritmoDivision(A*X, N, True)[1]\n",
    "        print()\n",
    "    print(bold(printYellow(\"\\n SOLUCIÓN:   ---- X = \" + str(X) + \" ----\")))\n",
    "    print(bold(\"COMPROBACIÓN:       \") +str(A) + printYellow( \" (\" + str(X) + \")\") + \" ≅ \" + str(B) + \" mod \" + str(N) + \" ✅\\n\\n\\n\" )"
   ],
   "metadata": {
    "collapsed": false
   }
  },
  {
   "cell_type": "code",
   "execution_count": null,
   "outputs": [],
   "source": [
    "ingresarDatos()\n",
    "algoritmoEuclides()\n",
    "definirCaso()"
   ],
   "metadata": {
    "collapsed": false
   }
  }
 ],
 "metadata": {
  "kernelspec": {
   "display_name": "Python 3",
   "language": "python",
   "name": "python3"
  },
  "language_info": {
   "codemirror_mode": {
    "name": "ipython",
    "version": 2
   },
   "file_extension": ".py",
   "mimetype": "text/x-python",
   "name": "python",
   "nbconvert_exporter": "python",
   "pygments_lexer": "ipython2",
   "version": "2.7.6"
  }
 },
 "nbformat": 4,
 "nbformat_minor": 0
}
