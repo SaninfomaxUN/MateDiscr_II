{
 "cells": [
  {
   "cell_type": "code",
   "execution_count": 710,
   "metadata": {
    "collapsed": true
   },
   "outputs": [],
   "source": [
    "from sympy import isprime, primerange, randprime\n",
    "import math\n",
    "import random\n",
    "import time\n",
    "\n",
    "p = 0\n",
    "q = 0\n",
    "n = 0\n",
    "a = 0\n",
    "totientN = 0\n",
    "b = 0\n",
    "\n",
    "\n",
    "# def ingresarDatos():\n",
    "#     A = int(input(\"Ingrese el Primer Número:\"))\n",
    "#     B = int(input(\"Ingrese el Segundo Número:\"))"
   ]
  },
  {
   "cell_type": "markdown",
   "source": [
    " ----------------------------- Metodos de Impresión -------------------------------"
   ],
   "metadata": {
    "collapsed": false
   }
  },
  {
   "cell_type": "code",
   "execution_count": 711,
   "outputs": [],
   "source": [
    "def bold(Str):\n",
    "    return \"\\033[1m\" + Str + \"\\033[0m\"\n",
    "\n",
    "\n",
    "def printYellow(Str):\n",
    "    return \"\\033[93m\" + Str + \"\\033[0m\"\n",
    "\n",
    "\n",
    "def printRed(Str):\n",
    "    return \"\\033[91m\" + Str + \"\\033[0m\""
   ],
   "metadata": {
    "collapsed": false
   }
  },
  {
   "cell_type": "code",
   "execution_count": 712,
   "outputs": [],
   "source": [
    "def imprimirAlgoritmo(a, b, q, r):\n",
    "    if r == 0:\n",
    "        print(str(a) + \" = \" + str(q) + \"•\" + str(b) + \" + \" + bold(str(r)))\n",
    "    elif b % r == 0:\n",
    "        print(str(a) + \" = \" + str(q) + \"•\" + str(b) + \" + \" + printYellow(str(r)))\n",
    "    else:\n",
    "        print(str(a) + \" = \" + str(q) + \"•\" + str(b) + \" + \" + str(r))"
   ],
   "metadata": {
    "collapsed": false
   }
  },
  {
   "cell_type": "markdown",
   "source": [
    " ----------------------------- 1 -------------------------------"
   ],
   "metadata": {
    "collapsed": false
   }
  },
  {
   "cell_type": "code",
   "execution_count": 713,
   "outputs": [],
   "source": [
    "def choose2LargePrimes():\n",
    "    global p\n",
    "    global q\n",
    "    p = randprime(10000000, 100000000)\n",
    "    q = randprime(10000000, 100000000)"
   ],
   "metadata": {
    "collapsed": false
   }
  },
  {
   "cell_type": "markdown",
   "source": [
    " ----------------------------- 2 -------------------------------"
   ],
   "metadata": {
    "collapsed": false
   }
  },
  {
   "cell_type": "code",
   "execution_count": 714,
   "outputs": [],
   "source": [
    "def computePxQ():\n",
    "    global n\n",
    "    n = p * q"
   ],
   "metadata": {
    "collapsed": false
   }
  },
  {
   "cell_type": "markdown",
   "source": [
    " ----------------------------- 3 -------------------------------"
   ],
   "metadata": {
    "collapsed": false
   }
  },
  {
   "cell_type": "code",
   "execution_count": 715,
   "outputs": [],
   "source": [
    "def computeTotientOiler():\n",
    "    global totientN\n",
    "    totientN = (p - 1) * (q - 1)"
   ],
   "metadata": {
    "collapsed": false
   }
  },
  {
   "cell_type": "markdown",
   "source": [
    " ----------------------------- 4 -------------------------------"
   ],
   "metadata": {
    "collapsed": false
   }
  },
  {
   "cell_type": "code",
   "execution_count": 716,
   "outputs": [],
   "source": [
    "def chooseGCDAandTotient():\n",
    "    global a\n",
    "    global totientN\n",
    "    GCD = 0\n",
    "    while GCD != 1:\n",
    "        a = random.randint(2, totientN)\n",
    "        GCD = algoritmoEuclides(a, totientN)\n",
    "        #time.sleep(3)\n",
    "\n",
    "    print(GCD)\n",
    "    print(a)"
   ],
   "metadata": {
    "collapsed": false
   }
  },
  {
   "cell_type": "code",
   "execution_count": 717,
   "outputs": [],
   "source": [
    "def algoritmoDivision(a, b):\n",
    "    q = math.trunc(a / b)\n",
    "    r = a - q * b\n",
    "    imprimirAlgoritmo(a, b, q, r)\n",
    "    insertarMatriz(a,q,b,r)\n",
    "    return b, r"
   ],
   "metadata": {
    "collapsed": false
   }
  },
  {
   "cell_type": "code",
   "execution_count": 718,
   "outputs": [],
   "source": [
    "def algoritmoEuclides(A, B):\n",
    "    GCD = 0\n",
    "    print(bold(\"Algoritmo de la División:\") + \" a = q•b + r\\n\")\n",
    "    print(bold(\"a = \") + str(A) + \", \" + bold(\"b = \") + str(B) + \"\\n\")\n",
    "    a, b = algoritmoDivision(A, B)\n",
    "    while b != 0:\n",
    "        if a % b == 0:\n",
    "            GCD = b\n",
    "        a, b = algoritmoDivision(a, b)\n",
    "\n",
    "    print(\"\\n\" + bold(\"El Máximo Común Divisor entre \" + str(A) + \" y \" + str(B) + \" es: \") + printYellow(str(a)) + \".\")\n",
    "    return GCD"
   ],
   "metadata": {
    "collapsed": false
   }
  },
  {
   "cell_type": "markdown",
   "source": [
    " ----------------------------- 5 -------------------------------"
   ],
   "metadata": {
    "collapsed": false
   }
  },
  {
   "cell_type": "code",
   "execution_count": 719,
   "outputs": [],
   "source": [
    "from copy import deepcopy\n",
    "DicResiduos = {}\n",
    "igualdadBase = []\n",
    "\n",
    "def computeB():\n",
    "    global DicResiduos\n",
    "    global igualdadBase\n",
    "\n",
    "    DicResiduos = {}\n",
    "    igualdadBase = []\n",
    "    print(printYellow(\"   --- Algoritmo para hallar el Inverso Multiplicativo de \" + bold(\n",
    "        str(a) + \" mod \" + str(totientN) + \". ---   \")) + \"\\n\\n \")\n",
    "    algoritmoEuclides(a, totientN)\n",
    "    sustitucionAtras()\n",
    "    obtenerInverso(a,totientN)\n",
    "\n",
    "def insertarMatriz(a,q,b,r):\n",
    "    if r>=1:\n",
    "        DicResiduos[r] = [a,q,b]\n",
    "        if r==1:\n",
    "            global igualdadBase\n",
    "            igualdadBase =[r,[1,a],[q,b]]\n"
   ],
   "metadata": {
    "collapsed": false
   }
  },
  {
   "cell_type": "code",
   "execution_count": 720,
   "outputs": [],
   "source": [
    "def sustitucionAtras():\n",
    "    print(bold(\"    IDENTIDAD DE BEZOUT    \\n\"))\n",
    "    #print(bold(\" Identidad de Bezout: \\n\"))\n",
    "    residuos = list(DicResiduos.keys())\n",
    "    residuos.remove(1)\n",
    "    for residuo in reversed(residuos):\n",
    "        identidadBezout(residuo)"
   ],
   "metadata": {
    "collapsed": false
   }
  },
  {
   "cell_type": "code",
   "execution_count": 721,
   "outputs": [],
   "source": [
    "def identidadBezout(residuo):\n",
    "    sustitucion = DicResiduos[residuo]\n",
    "    # if residuo == igualdadBase[1][1]:\n",
    "    #     igualdadBase[2][0] = igualdadBase[2][0] + igualdadBase[1][0]*sustitucion[1]\n",
    "    #     igualdadBase[1][1] = sustitucion[0]\n",
    "    # else:\n",
    "    #     igualdadBase[1][0] = igualdadBase[1][0] + igualdadBase[2][0]*sustitucion[1]\n",
    "    #     igualdadBase[2][1] = sustitucion[0]\n",
    "    opc1 = 0\n",
    "    opc2 = 0\n",
    "    if residuo == igualdadBase[1][1]:\n",
    "        opc1 = 2\n",
    "        opc2 = 1\n",
    "    else:\n",
    "        opc1 = 1\n",
    "        opc2 = 2\n",
    "    igualdadAntigua = deepcopy(igualdadBase)\n",
    "    igualdadBase[opc1][0] = igualdadBase[opc1][0] + igualdadBase[opc2][0]*sustitucion[1]\n",
    "    igualdadBase[opc2][1] = sustitucion[0]\n",
    "    #print(sustitucion)\n",
    "    #print(igualdadBase)\n",
    "    imprimirIgualdadBase(igualdadAntigua,igualdadBase, sustitucion, opc2)"
   ],
   "metadata": {
    "collapsed": false
   }
  },
  {
   "cell_type": "code",
   "execution_count": 722,
   "outputs": [],
   "source": [
    "def imprimirIgualdadBase(igualdadAntigua, igualdadBase, sustitucion, opc2):\n",
    "    if opc2 == 1:\n",
    "        sustitucion = str(igualdadAntigua[1][0]) + \" [\" + str(sustitucion[0]) + \" - \" + str(sustitucion[1]) + \"•\" + str(sustitucion[2]) + \"] - \" + str(igualdadAntigua[2][0]) + \" (\" + str(igualdadAntigua[2][1]) + \")\"\n",
    "    else:\n",
    "        sustitucion = str(igualdadAntigua[1][0]) + \" (\" + str(igualdadAntigua[1][1]) + \") - \" + str(igualdadAntigua[2][0]) + \" [\" + str(sustitucion[0]) + \" - \" + str(sustitucion[1]) + \"•\" + str(sustitucion[2]) + \"]\"\n",
    "    print(bold(str(igualdadBase[0]) + \" = \")  + sustitucion\n",
    "          + bold( \"    =    \")  + str(igualdadBase[1][0]) + \" (\" + str(igualdadBase[1][1]) + \") - \" + str(igualdadBase[2][0]) + \" (\" + str(igualdadBase[2][1]) + \")\\n\")"
   ],
   "metadata": {
    "collapsed": false
   }
  },
  {
   "cell_type": "code",
   "execution_count": 723,
   "outputs": [],
   "source": [
    "def obtenerInverso(A, N):\n",
    "    inversa = 0\n",
    "    if A == igualdadBase[1][1]:\n",
    "        inversa = igualdadBase[1][0]\n",
    "    elif A == igualdadBase[2][1]:\n",
    "        inversa = -igualdadBase[2][0]\n",
    "    if inversa<0:\n",
    "        print(\"\\n     → Como se debe tomar el Inverso a partir del residuo minimo, entonces se calcula el Inverso mínimo congruente:\\n\")\n",
    "        inversaOrig = inversa\n",
    "        inversa = inversa + N\n",
    "        print(\"           \"+str(A) + \" (\" +  str(inversaOrig) + \")  ≅  \" + str(A) + printYellow(\" (\" +  str(inversaOrig) + \" + \" + str(N) + \")\") + \"  ≅  \" + str(A) + printYellow(\" (\" +  str(inversaOrig + N) + \")\") +   \" mod \" +  str(N))\n",
    "    print(printYellow(\"\\n   ---  La inversa de \" + str(A) + \" mod \" + str(N) + \" es: \" + bold(str(inversa)) + \"  ---\") )\n",
    "    print()\n",
    "    print(bold(\"COMPROBACIÓN:       \") +str(A) + printYellow( \" (\" + str(inversa) + \")\") + \" ≅ 1 mod \" + str(N) + \" ✅\" )"
   ],
   "metadata": {
    "collapsed": false
   }
  },
  {
   "cell_type": "code",
   "execution_count": 723,
   "outputs": [],
   "source": [],
   "metadata": {
    "collapsed": false
   }
  },
  {
   "cell_type": "code",
   "execution_count": 724,
   "outputs": [
    {
     "name": "stdout",
     "output_type": "stream",
     "text": [
      "\u001B[1mAlgoritmo de la División:\u001B[0m a = q•b + r\n",
      "\n",
      "\u001B[1ma = \u001B[0m1227979032805623, \u001B[1mb = \u001B[0m3228062115505500\n",
      "\n",
      "1227979032805623 = 0•3228062115505500 + 1227979032805623\n",
      "3228062115505500 = 2•1227979032805623 + 772104049894254\n",
      "1227979032805623 = 1•772104049894254 + 455874982911369\n",
      "772104049894254 = 1•455874982911369 + 316229066982885\n",
      "455874982911369 = 1•316229066982885 + 139645915928484\n",
      "316229066982885 = 2•139645915928484 + 36937235125917\n",
      "139645915928484 = 3•36937235125917 + 28834210550733\n",
      "36937235125917 = 1•28834210550733 + 8103024575184\n",
      "28834210550733 = 3•8103024575184 + 4525136825181\n",
      "8103024575184 = 1•4525136825181 + 3577887750003\n",
      "4525136825181 = 1•3577887750003 + 947249075178\n",
      "3577887750003 = 3•947249075178 + 736140524469\n",
      "947249075178 = 1•736140524469 + 211108550709\n",
      "736140524469 = 3•211108550709 + 102814872342\n",
      "211108550709 = 2•102814872342 + 5478806025\n",
      "102814872342 = 18•5478806025 + 4196363892\n",
      "5478806025 = 1•4196363892 + 1282442133\n",
      "4196363892 = 3•1282442133 + 349037493\n",
      "1282442133 = 3•349037493 + 235329654\n",
      "349037493 = 1•235329654 + 113707839\n",
      "235329654 = 2•113707839 + 7913976\n",
      "113707839 = 14•7913976 + 2912175\n",
      "7913976 = 2•2912175 + 2089626\n",
      "2912175 = 1•2089626 + 822549\n",
      "2089626 = 2•822549 + 444528\n",
      "822549 = 1•444528 + 378021\n",
      "444528 = 1•378021 + 66507\n",
      "378021 = 5•66507 + 45486\n",
      "66507 = 1•45486 + 21021\n",
      "45486 = 2•21021 + 3444\n",
      "21021 = 6•3444 + 357\n",
      "3444 = 9•357 + 231\n",
      "357 = 1•231 + 126\n",
      "231 = 1•126 + 105\n",
      "126 = 1•105 + \u001B[93m21\u001B[0m\n",
      "105 = 5•21 + \u001B[1m0\u001B[0m\n",
      "\n",
      "\u001B[1mEl Máximo Común Divisor entre 1227979032805623 y 3228062115505500 es: \u001B[0m\u001B[93m21\u001B[0m.\n",
      "\u001B[1mAlgoritmo de la División:\u001B[0m a = q•b + r\n",
      "\n",
      "\u001B[1ma = \u001B[0m2104381938770370, \u001B[1mb = \u001B[0m3228062115505500\n",
      "\n",
      "2104381938770370 = 0•3228062115505500 + 2104381938770370\n",
      "3228062115505500 = 1•2104381938770370 + 1123680176735130\n",
      "2104381938770370 = 1•1123680176735130 + 980701762035240\n",
      "1123680176735130 = 1•980701762035240 + 142978414699890\n",
      "980701762035240 = 6•142978414699890 + 122831273835900\n",
      "142978414699890 = 1•122831273835900 + 20147140863990\n",
      "122831273835900 = 6•20147140863990 + 1948428651960\n",
      "20147140863990 = 10•1948428651960 + 662854344390\n",
      "1948428651960 = 2•662854344390 + 622719963180\n",
      "662854344390 = 1•622719963180 + 40134381210\n",
      "622719963180 = 15•40134381210 + 20704245030\n",
      "40134381210 = 1•20704245030 + 19430136180\n",
      "20704245030 = 1•19430136180 + 1274108850\n",
      "19430136180 = 15•1274108850 + 318503430\n",
      "1274108850 = 4•318503430 + 95130\n",
      "318503430 = 3348•95130 + 8190\n",
      "95130 = 11•8190 + 5040\n",
      "8190 = 1•5040 + 3150\n",
      "5040 = 1•3150 + 1890\n",
      "3150 = 1•1890 + 1260\n",
      "1890 = 1•1260 + \u001B[93m630\u001B[0m\n",
      "1260 = 2•630 + \u001B[1m0\u001B[0m\n",
      "\n",
      "\u001B[1mEl Máximo Común Divisor entre 2104381938770370 y 3228062115505500 es: \u001B[0m\u001B[93m630\u001B[0m.\n",
      "\u001B[1mAlgoritmo de la División:\u001B[0m a = q•b + r\n",
      "\n",
      "\u001B[1ma = \u001B[0m151023220628613, \u001B[1mb = \u001B[0m3228062115505500\n",
      "\n",
      "151023220628613 = 0•3228062115505500 + 151023220628613\n",
      "3228062115505500 = 21•151023220628613 + 56574482304627\n",
      "151023220628613 = 2•56574482304627 + 37874256019359\n",
      "56574482304627 = 1•37874256019359 + 18700226285268\n",
      "37874256019359 = 2•18700226285268 + 473803448823\n",
      "18700226285268 = 39•473803448823 + 221891781171\n",
      "473803448823 = 2•221891781171 + 30019886481\n",
      "221891781171 = 7•30019886481 + 11752575804\n",
      "30019886481 = 2•11752575804 + 6514734873\n",
      "11752575804 = 1•6514734873 + 5237840931\n",
      "6514734873 = 1•5237840931 + 1276893942\n",
      "5237840931 = 4•1276893942 + 130265163\n",
      "1276893942 = 9•130265163 + 104507475\n",
      "130265163 = 1•104507475 + 25757688\n",
      "104507475 = 4•25757688 + 1476723\n",
      "25757688 = 17•1476723 + 653397\n",
      "1476723 = 2•653397 + 169929\n",
      "653397 = 3•169929 + 143610\n",
      "169929 = 1•143610 + 26319\n",
      "143610 = 5•26319 + 12015\n",
      "26319 = 2•12015 + 2289\n",
      "12015 = 5•2289 + 570\n",
      "2289 = 4•570 + 9\n",
      "570 = 63•9 + \u001B[93m3\u001B[0m\n",
      "9 = 3•3 + \u001B[1m0\u001B[0m\n",
      "\n",
      "\u001B[1mEl Máximo Común Divisor entre 151023220628613 y 3228062115505500 es: \u001B[0m\u001B[93m3\u001B[0m.\n",
      "\u001B[1mAlgoritmo de la División:\u001B[0m a = q•b + r\n",
      "\n",
      "\u001B[1ma = \u001B[0m3164034421803187, \u001B[1mb = \u001B[0m3228062115505500\n",
      "\n",
      "3164034421803187 = 0•3228062115505500 + 3164034421803187\n",
      "3228062115505500 = 1•3164034421803187 + 64027693702313\n",
      "3164034421803187 = 49•64027693702313 + 26677430389850\n",
      "64027693702313 = 2•26677430389850 + 10672832922613\n",
      "26677430389850 = 2•10672832922613 + 5331764544624\n",
      "10672832922613 = 2•5331764544624 + 9303833365\n",
      "5331764544624 = 573•9303833365 + 668026479\n",
      "9303833365 = 13•668026479 + 619489138\n",
      "668026479 = 1•619489138 + 48537341\n",
      "619489138 = 12•48537341 + 37041046\n",
      "48537341 = 1•37041046 + 11496295\n",
      "37041046 = 3•11496295 + 2552161\n",
      "11496295 = 4•2552161 + 1287651\n",
      "2552161 = 1•1287651 + 1264510\n",
      "1287651 = 1•1264510 + 23141\n",
      "1264510 = 54•23141 + 14896\n",
      "23141 = 1•14896 + 8245\n",
      "14896 = 1•8245 + 6651\n",
      "8245 = 1•6651 + 1594\n",
      "6651 = 4•1594 + 275\n",
      "1594 = 5•275 + 219\n",
      "275 = 1•219 + 56\n",
      "219 = 3•56 + 51\n",
      "56 = 1•51 + 5\n",
      "51 = 10•5 + \u001B[93m1\u001B[0m\n",
      "5 = 5•1 + \u001B[1m0\u001B[0m\n",
      "\n",
      "\u001B[1mEl Máximo Común Divisor entre 3164034421803187 y 3228062115505500 es: \u001B[0m\u001B[93m1\u001B[0m.\n",
      "1\n",
      "3164034421803187\n",
      "\u001B[93m   --- Algoritmo para hallar el Inverso Multiplicativo de \u001B[1m3164034421803187 mod 3228062115505500. ---   \u001B[0m\u001B[0m\n",
      "\n",
      " \n",
      "\u001B[1mAlgoritmo de la División:\u001B[0m a = q•b + r\n",
      "\n",
      "\u001B[1ma = \u001B[0m3164034421803187, \u001B[1mb = \u001B[0m3228062115505500\n",
      "\n",
      "3164034421803187 = 0•3228062115505500 + 3164034421803187\n",
      "3228062115505500 = 1•3164034421803187 + 64027693702313\n",
      "3164034421803187 = 49•64027693702313 + 26677430389850\n",
      "64027693702313 = 2•26677430389850 + 10672832922613\n",
      "26677430389850 = 2•10672832922613 + 5331764544624\n",
      "10672832922613 = 2•5331764544624 + 9303833365\n",
      "5331764544624 = 573•9303833365 + 668026479\n",
      "9303833365 = 13•668026479 + 619489138\n",
      "668026479 = 1•619489138 + 48537341\n",
      "619489138 = 12•48537341 + 37041046\n",
      "48537341 = 1•37041046 + 11496295\n",
      "37041046 = 3•11496295 + 2552161\n",
      "11496295 = 4•2552161 + 1287651\n",
      "2552161 = 1•1287651 + 1264510\n",
      "1287651 = 1•1264510 + 23141\n",
      "1264510 = 54•23141 + 14896\n",
      "23141 = 1•14896 + 8245\n",
      "14896 = 1•8245 + 6651\n",
      "8245 = 1•6651 + 1594\n",
      "6651 = 4•1594 + 275\n",
      "1594 = 5•275 + 219\n",
      "275 = 1•219 + 56\n",
      "219 = 3•56 + 51\n",
      "56 = 1•51 + 5\n",
      "51 = 10•5 + \u001B[93m1\u001B[0m\n",
      "5 = 5•1 + \u001B[1m0\u001B[0m\n",
      "\n",
      "\u001B[1mEl Máximo Común Divisor entre 3164034421803187 y 3228062115505500 es: \u001B[0m\u001B[93m1\u001B[0m.\n",
      "\u001B[1m    IDENTIDAD DE BEZOUT    \n",
      "\u001B[0m\n",
      "\u001B[1m1 = \u001B[0m1 (51) - 10 [56 - 1•51]\u001B[1m    =    \u001B[0m11 (51) - 10 (56)\n",
      "\n",
      "\u001B[1m1 = \u001B[0m11 [219 - 3•56] - 10 (56)\u001B[1m    =    \u001B[0m11 (219) - 43 (56)\n",
      "\n",
      "\u001B[1m1 = \u001B[0m11 (219) - 43 [275 - 1•219]\u001B[1m    =    \u001B[0m54 (219) - 43 (275)\n",
      "\n",
      "\u001B[1m1 = \u001B[0m54 [1594 - 5•275] - 43 (275)\u001B[1m    =    \u001B[0m54 (1594) - 313 (275)\n",
      "\n",
      "\u001B[1m1 = \u001B[0m54 (1594) - 313 [6651 - 4•1594]\u001B[1m    =    \u001B[0m1306 (1594) - 313 (6651)\n",
      "\n",
      "\u001B[1m1 = \u001B[0m1306 [8245 - 1•6651] - 313 (6651)\u001B[1m    =    \u001B[0m1306 (8245) - 1619 (6651)\n",
      "\n",
      "\u001B[1m1 = \u001B[0m1306 (8245) - 1619 [14896 - 1•8245]\u001B[1m    =    \u001B[0m2925 (8245) - 1619 (14896)\n",
      "\n",
      "\u001B[1m1 = \u001B[0m2925 [23141 - 1•14896] - 1619 (14896)\u001B[1m    =    \u001B[0m2925 (23141) - 4544 (14896)\n",
      "\n",
      "\u001B[1m1 = \u001B[0m2925 (23141) - 4544 [1264510 - 54•23141]\u001B[1m    =    \u001B[0m248301 (23141) - 4544 (1264510)\n",
      "\n",
      "\u001B[1m1 = \u001B[0m248301 [1287651 - 1•1264510] - 4544 (1264510)\u001B[1m    =    \u001B[0m248301 (1287651) - 252845 (1264510)\n",
      "\n",
      "\u001B[1m1 = \u001B[0m248301 (1287651) - 252845 [2552161 - 1•1287651]\u001B[1m    =    \u001B[0m501146 (1287651) - 252845 (2552161)\n",
      "\n",
      "\u001B[1m1 = \u001B[0m501146 [11496295 - 4•2552161] - 252845 (2552161)\u001B[1m    =    \u001B[0m501146 (11496295) - 2257429 (2552161)\n",
      "\n",
      "\u001B[1m1 = \u001B[0m501146 (11496295) - 2257429 [37041046 - 3•11496295]\u001B[1m    =    \u001B[0m7273433 (11496295) - 2257429 (37041046)\n",
      "\n",
      "\u001B[1m1 = \u001B[0m7273433 [48537341 - 1•37041046] - 2257429 (37041046)\u001B[1m    =    \u001B[0m7273433 (48537341) - 9530862 (37041046)\n",
      "\n",
      "\u001B[1m1 = \u001B[0m7273433 (48537341) - 9530862 [619489138 - 12•48537341]\u001B[1m    =    \u001B[0m121643777 (48537341) - 9530862 (619489138)\n",
      "\n",
      "\u001B[1m1 = \u001B[0m121643777 [668026479 - 1•619489138] - 9530862 (619489138)\u001B[1m    =    \u001B[0m121643777 (668026479) - 131174639 (619489138)\n",
      "\n",
      "\u001B[1m1 = \u001B[0m121643777 (668026479) - 131174639 [9303833365 - 13•668026479]\u001B[1m    =    \u001B[0m1826914084 (668026479) - 131174639 (9303833365)\n",
      "\n",
      "\u001B[1m1 = \u001B[0m1826914084 [5331764544624 - 573•9303833365] - 131174639 (9303833365)\u001B[1m    =    \u001B[0m1826914084 (5331764544624) - 1046952944771 (9303833365)\n",
      "\n",
      "\u001B[1m1 = \u001B[0m1826914084 (5331764544624) - 1046952944771 [10672832922613 - 2•5331764544624]\u001B[1m    =    \u001B[0m2095732803626 (5331764544624) - 1046952944771 (10672832922613)\n",
      "\n",
      "\u001B[1m1 = \u001B[0m2095732803626 [26677430389850 - 2•10672832922613] - 1046952944771 (10672832922613)\u001B[1m    =    \u001B[0m2095732803626 (26677430389850) - 5238418552023 (10672832922613)\n",
      "\n",
      "\u001B[1m1 = \u001B[0m2095732803626 (26677430389850) - 5238418552023 [64027693702313 - 2•26677430389850]\u001B[1m    =    \u001B[0m12572569907672 (26677430389850) - 5238418552023 (64027693702313)\n",
      "\n",
      "\u001B[1m1 = \u001B[0m12572569907672 [3164034421803187 - 49•64027693702313] - 5238418552023 (64027693702313)\u001B[1m    =    \u001B[0m12572569907672 (3164034421803187) - 621294344027951 (64027693702313)\n",
      "\n",
      "\u001B[1m1 = \u001B[0m12572569907672 (3164034421803187) - 621294344027951 [3228062115505500 - 1•3164034421803187]\u001B[1m    =    \u001B[0m633866913935623 (3164034421803187) - 621294344027951 (3228062115505500)\n",
      "\n",
      "\u001B[1m1 = \u001B[0m633866913935623 [3164034421803187 - 0•3228062115505500] - 621294344027951 (3228062115505500)\u001B[1m    =    \u001B[0m633866913935623 (3164034421803187) - 621294344027951 (3228062115505500)\n",
      "\n",
      "\u001B[93m\n",
      "   ---  La inversa de 3164034421803187 mod 3228062115505500 es: \u001B[1m633866913935623\u001B[0m  ---\u001B[0m\n",
      "\n",
      "\u001B[1mCOMPROBACIÓN:       \u001B[0m3164034421803187\u001B[93m (633866913935623)\u001B[0m ≅ 1 mod 3228062115505500 ✅\n"
     ]
    }
   ],
   "source": [
    "choose2LargePrimes()\n",
    "computePxQ()\n",
    "computeTotientOiler()\n",
    "chooseGCDAandTotient()\n",
    "computeB()"
   ],
   "metadata": {
    "collapsed": false
   }
  },
  {
   "cell_type": "code",
   "execution_count": 724,
   "outputs": [],
   "source": [],
   "metadata": {
    "collapsed": false
   }
  }
 ],
 "metadata": {
  "kernelspec": {
   "display_name": "Python 3",
   "language": "python",
   "name": "python3"
  },
  "language_info": {
   "codemirror_mode": {
    "name": "ipython",
    "version": 2
   },
   "file_extension": ".py",
   "mimetype": "text/x-python",
   "name": "python",
   "nbconvert_exporter": "python",
   "pygments_lexer": "ipython2",
   "version": "2.7.6"
  }
 },
 "nbformat": 4,
 "nbformat_minor": 0
}
