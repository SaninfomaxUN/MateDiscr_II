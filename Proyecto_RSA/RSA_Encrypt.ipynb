{
 "cells": [
  {
   "cell_type": "markdown",
   "metadata": {},
   "source": [
    "# Cifrado RSA"
   ]
  },
  {
   "cell_type": "markdown",
   "metadata": {},
   "source": [
    "###### Presentado por:\n",
    "    → David Santiago Cruz Hernandez\n",
    "    → David Alexander Rativa Gutierrez\n",
    "    → Carlos Arturo Murcia Andrade\n",
    "    → Ivan Felipe Ayala Rengifo"
   ]
  },
  {
   "cell_type": "markdown",
   "source": [
    "## Generar Claves RSA"
   ],
   "metadata": {
    "collapsed": false
   }
  },
  {
   "cell_type": "markdown",
   "source": [
    " ----------------------------- Variables Iniciales -------------------------------"
   ],
   "metadata": {
    "collapsed": false
   }
  },
  {
   "cell_type": "code",
   "execution_count": null,
   "metadata": {},
   "outputs": [],
   "source": [
    "from sympy import isprime, randprime\n",
    "from copy import deepcopy\n",
    "import math\n",
    "import random\n",
    "\n",
    "p = 0\n",
    "q = 0\n",
    "n = 0\n",
    "a = 0\n",
    "totientN = 0\n",
    "b = 0\n",
    "DicResidues = {}\n",
    "equalityBase = []"
   ]
  },
  {
   "cell_type": "markdown",
   "metadata": {},
   "source": [
    "----------------------------- Metodos de Impresión -------------------------------"
   ]
  },
  {
   "cell_type": "code",
   "execution_count": null,
   "metadata": {},
   "outputs": [],
   "source": [
    "def bold(Str):\n",
    "    return \"\\033[1m\" + Str + \"\\033[0m\"\n",
    "\n",
    "\n",
    "def printYellow(Str):\n",
    "    return \"\\033[93m\" + Str + \"\\033[0m\"\n",
    "\n",
    "\n",
    "def printRed(Str):\n",
    "    return \"\\033[91m\" + Str + \"\\033[0m\""
   ]
  },
  {
   "cell_type": "code",
   "execution_count": null,
   "metadata": {},
   "outputs": [],
   "source": [
    "def printAlgorithm(A, B, Q, R):\n",
    "    if R == 0:\n",
    "        print(str(A) + \" = \" + str(Q) + \"•\" + str(B) + \" + \" + bold(str(R)))\n",
    "    elif B % R == 0:\n",
    "        if R == 1:\n",
    "            print(str(A) + \" = \" + str(Q) + \"•\" + str(B) + \" + \" + printYellow(str(R)))\n",
    "        else:\n",
    "            print(str(A) + \" = \" + str(Q) + \"•\" + str(B) + \" + \" + printRed(str(R)))\n",
    "\n",
    "    else:\n",
    "        print(str(A) + \" = \" + str(Q) + \"•\" + str(B) + \" + \" + str(R))"
   ]
  },
  {
   "cell_type": "code",
   "execution_count": null,
   "metadata": {},
   "outputs": [],
   "source": [
    "def printEqualityBase(equalityOld, equalityBase, sustitution, opt2):\n",
    "    if opt2 == 1:\n",
    "        sustitution = str(equalityOld[1][0]) + \" [\" + str(sustitution[0]) + \" - \" + str(sustitution[1]) + \"•\" + str(sustitution[2]) + \"] - \" + str(equalityOld[2][0]) + \" (\" + str(equalityOld[2][1]) + \")\"\n",
    "    else:\n",
    "        sustitution = str(equalityOld[1][0]) + \" (\" + str(equalityOld[1][1]) + \") - \" + str(equalityOld[2][0]) + \" [\" + str(sustitution[0]) + \" - \" + str(sustitution[1]) + \"•\" + str(sustitution[2]) + \"]\"\n",
    "    print(bold(str(equalityBase[0]) + \" = \") + sustitution\n",
    "          + bold( \"    =    \") + str(equalityBase[1][0]) + \" (\" + str(equalityBase[1][1]) + \") - \" + str(equalityBase[2][0]) + \" (\" + str(equalityBase[2][1]) + \")\\n\")"
   ]
  },
  {
   "cell_type": "markdown",
   "metadata": {},
   "source": [
    "##### ----------------------------- 1. Escoger 2 números primos grandes Aleatorios -------------------------------"
   ]
  },
  {
   "cell_type": "code",
   "execution_count": null,
   "metadata": {},
   "outputs": [],
   "source": [
    "def choose2LargePrimes():\n",
    "    global p\n",
    "    global q\n",
    "    p = randprime(100000000, 1000000000)\n",
    "    q = randprime(100000000, 1000000000)\n",
    "    print(printYellow(\"p = \") + str(p))\n",
    "    print(printYellow(\"q = \") + str(q))"
   ]
  },
  {
   "cell_type": "code",
   "execution_count": null,
   "metadata": {},
   "outputs": [],
   "source": [
    "choose2LargePrimes()"
   ]
  },
  {
   "cell_type": "markdown",
   "metadata": {},
   "source": [
    "##### ----------------------------- 2. Calcular n (Multiplicación de p y q) -------------------------------"
   ]
  },
  {
   "cell_type": "code",
   "execution_count": null,
   "metadata": {},
   "outputs": [],
   "source": [
    "def computePxQ():\n",
    "    global n\n",
    "    n = p * q\n",
    "    print(printYellow(\"n =\") + \" p•q = \" + str(p) + \"•\" + str(q) + \" = \" + str(n))"
   ]
  },
  {
   "cell_type": "code",
   "execution_count": null,
   "outputs": [],
   "source": [
    "computePxQ()"
   ],
   "metadata": {
    "collapsed": false
   }
  },
  {
   "cell_type": "markdown",
   "metadata": {},
   "source": [
    "##### ----------------------------- 3. Calcular Totient de Euler -------------------------------"
   ]
  },
  {
   "cell_type": "code",
   "execution_count": null,
   "metadata": {},
   "outputs": [],
   "source": [
    "def computeTotientEuler():\n",
    "    global totientN\n",
    "    totientN = (p - 1) * (q - 1)\n",
    "    print(printYellow(bold(\"φ(n) = \")) +  \"(p - 1) • (q - 1) = (\" + str(p) + \" - 1) • (\" + str(q) + \" - 1) = \" + str(totientN))"
   ]
  },
  {
   "cell_type": "code",
   "execution_count": null,
   "outputs": [],
   "source": [
    "computeTotientEuler()"
   ],
   "metadata": {
    "collapsed": false
   }
  },
  {
   "cell_type": "markdown",
   "metadata": {},
   "source": [
    "##### ----------------------------- 4. Escoger a Aleatorio que sea ≥ 2 y ≤ φ(n), tal que a y φ(n) sean Primos relativos (GDC(a, φ(n)) = 1).  -------------------------------"
   ]
  },
  {
   "cell_type": "markdown",
   "metadata": {},
   "source": [
    "##### Para ello, se van generando y probando números aleatorios, de tal forma que por medio del algoritmo de Euclides, se determine un a que sea un primo relativo de φ(n)."
   ]
  },
  {
   "cell_type": "code",
   "execution_count": null,
   "metadata": {},
   "outputs": [],
   "source": [
    "def chooseGCDAandTotient():\n",
    "    global a\n",
    "    global totientN\n",
    "    print(printYellow(\"   --- Algoritmo para calcular un número Aleatorio a que sea ≥ 2 y ≤ \" + bold(str(65537)))  + printYellow(\", tal que a y \" + bold(str(totientN))) + printYellow(\" sean Primos Relativos. \" + \"\\n\\n \"))\n",
    "\n",
    "    GCD = 0\n",
    "    counter = 0\n",
    "    while GCD != 1:\n",
    "        counter += 1\n",
    "        print(bold(\"  ----  INTENTO # \" + str(counter)+ \"  ----  \") + \"\\n\")\n",
    "        a = random.randint(2,500)#totientN\n",
    "        GCD = euclidesAlgorithm(a, totientN)"
   ]
  },
  {
   "cell_type": "code",
   "execution_count": null,
   "metadata": {},
   "outputs": [],
   "source": [
    "def divisionAlgorithm(A, B):\n",
    "    Q = math.trunc(A / B)\n",
    "    R = A - Q * B\n",
    "    printAlgorithm(A, B, Q, R)\n",
    "    insertInMatrix(A, Q, B, R)\n",
    "    return B, R"
   ]
  },
  {
   "cell_type": "code",
   "execution_count": null,
   "metadata": {},
   "outputs": [],
   "source": [
    "def euclidesAlgorithm(A, B):\n",
    "    GCD = 0\n",
    "    global DicResidues\n",
    "    global equalityBase\n",
    "    DicResidues = {}\n",
    "    equalityBase = []\n",
    "\n",
    "    print(bold(\"Algoritmo de la División:\") + \" a = q•b + r\\n\")\n",
    "    print(bold(\"a = \") + str(A) + \", \" + bold(\"b = \" + printYellow(bold(\"φ(n) = \"))) + str(B) + \"\\n\")\n",
    "    resultA, resultB = divisionAlgorithm(A, B)\n",
    "    while resultB != 0:\n",
    "        if resultA % resultB == 0:\n",
    "            GCD = resultB\n",
    "        resultA, resultB = divisionAlgorithm(resultA, resultB)\n",
    "\n",
    "    if resultA ==1:\n",
    "        print(\"\\n\" + bold(\"El Máximo Común Divisor entre \" + str(A) + \" y \" + str(B) + \" es: \") + printYellow(str(resultA)) + \".\\n\" +\n",
    "                printYellow(\"  ---- Por lo tanto, a y φ(n) SI son Primos Relativos ✅ ----  \") + \"\\n\\n\\n\" +\n",
    "                printYellow(\"        a = \") + str(A) + \"\\n\")\n",
    "    else:\n",
    "        print(\"\\n\" + bold(\"El Máximo Común Divisor entre \" + str(A) + \" y \" + str(B) + \" es: \") + printRed(str(resultA)) + \".\\n\" +\n",
    "                 printRed(\"  ---- Por lo tanto, a y φ(n) NO son Primos Relativos ❌ ----  \") + \"\\n\\n\\n\")\n",
    "    return GCD"
   ]
  },
  {
   "cell_type": "code",
   "execution_count": null,
   "metadata": {},
   "outputs": [],
   "source": [
    "def insertInMatrix(A, Q, B, R):\n",
    "    if R>=1:\n",
    "        DicResidues[R] = [A, Q, B]\n",
    "        if R==1:\n",
    "            global equalityBase\n",
    "            equalityBase =[R, [1, A], [Q, B]]"
   ]
  },
  {
   "cell_type": "code",
   "execution_count": null,
   "metadata": {},
   "outputs": [],
   "source": [
    "chooseGCDAandTotient()"
   ]
  },
  {
   "cell_type": "markdown",
   "metadata": {},
   "source": [
    "#####  ----------------------------- 5. Calcular el Inverso Multiplicativo de a mod φ(n)  -------------------------------"
   ]
  },
  {
   "cell_type": "code",
   "execution_count": null,
   "metadata": {},
   "outputs": [],
   "source": [
    "def computeB():\n",
    "    print(printYellow(\"   --- Algoritmo para calcular el Inverso Multiplicativo de \" + bold(str(a) + \" mod \" + str(totientN) + \". ---   \")) + \"\\n\\n \")\n",
    "    #algoritmoEuclides(a, totientN)\n",
    "    backSustitution()\n",
    "    getInverse(a, totientN)"
   ]
  },
  {
   "cell_type": "code",
   "execution_count": null,
   "metadata": {},
   "outputs": [],
   "source": [
    "def backSustitution():\n",
    "    print(bold(\"    IDENTIDAD DE BEZOUT    \\n\"))\n",
    "    residues = list(DicResidues.keys())\n",
    "    residues.remove(1)\n",
    "    for residue in reversed(residues):\n",
    "        bezoutIdentity(residue)"
   ]
  },
  {
   "cell_type": "code",
   "execution_count": null,
   "metadata": {},
   "outputs": [],
   "source": [
    "def bezoutIdentity(residuo):\n",
    "    sustitucion = DicResidues[residuo]\n",
    "    if residuo == equalityBase[1][1]:\n",
    "        opc1 = 2\n",
    "        opc2 = 1\n",
    "    else:\n",
    "        opc1 = 1\n",
    "        opc2 = 2\n",
    "    igualdadAntigua = deepcopy(equalityBase)\n",
    "    equalityBase[opc1][0] = equalityBase[opc1][0] + equalityBase[opc2][0] * sustitucion[1]\n",
    "    equalityBase[opc2][1] = sustitucion[0]\n",
    "    #print(sustitucion)\n",
    "    #print(igualdadBase)\n",
    "    printEqualityBase(igualdadAntigua, equalityBase, sustitucion, opc2)"
   ]
  },
  {
   "cell_type": "code",
   "execution_count": null,
   "metadata": {},
   "outputs": [],
   "source": [
    "def getInverse(A, N):\n",
    "    global b\n",
    "    inverse = 0\n",
    "    if A == equalityBase[1][1]:\n",
    "        inverse = equalityBase[1][0]\n",
    "    elif A == equalityBase[2][1]:\n",
    "        inverse = -equalityBase[2][0]\n",
    "    if inverse<0:\n",
    "        print(\"\\n     → Como se debe tomar el Inverso a partir del residuo minimo, entonces se calcula el Inverso mínimo congruente:\\n\")\n",
    "        inverseOrig = inverse\n",
    "        inverse = inverse + N\n",
    "        print(\"           \"+str(A) + \" (\" +  str(inverseOrig) + \")  ≅  \" + str(A) + printYellow(\" (\" +  str(inverseOrig) + \" + \" + str(N) + \")\") + \"  ≅  \" + str(A) + printYellow(\" (\" +  str(inverseOrig + N) + \")\") +   \" mod \" +  str(N))\n",
    "    print(printYellow(\"\\n   ---  El Inverso Multiplicativo de \" + str(A) + \" mod \" + str(N) + \" es: \" + bold(str(inverse)) + \"  ---\") )\n",
    "    print()\n",
    "    print(bold(\"COMPROBACIÓN:       \") +str(A) + printYellow( \" (\" + str(inverse) + \")\") + \" ≅ 1 mod \" + str(N) + \" ✅\" )\n",
    "    b = inverse\n",
    "    print(\"\\n\\n\\n\" + printYellow(\"        b = \") + str(b) + \"\\n\")"
   ]
  },
  {
   "cell_type": "code",
   "execution_count": null,
   "metadata": {},
   "outputs": [],
   "source": [
    "computeB()"
   ]
  },
  {
   "cell_type": "markdown",
   "metadata": {},
   "source": [
    "#####  ----------------------------- Claves y Datos calculados  -------------------------------"
   ]
  },
  {
   "cell_type": "code",
   "execution_count": null,
   "metadata": {},
   "outputs": [],
   "source": [
    "def publishKeys():\n",
    "    print(\"Claves Publicas: \\n\"\n",
    "          +printYellow(\"    n = \") + str(n)+\"\\n\"\n",
    "          +printYellow(\"    a = \") + str(a)+\"\\n\")\n",
    "\n",
    "    print(\"Claves Privadas: \\n\"\n",
    "          +printYellow(\"    p = \") + str(p)+\"\\n\"\n",
    "          +printYellow(\"    q = \") + str(q)+\"\\n\"\n",
    "          +printYellow(\"    b = \") + str(b)+\"\\n\\n\")"
   ]
  },
  {
   "cell_type": "code",
   "execution_count": null,
   "metadata": {},
   "outputs": [],
   "source": [
    "publishKeys()"
   ]
  },
  {
   "cell_type": "markdown",
   "metadata": {},
   "source": [
    "##  ----------------------------- Función de Encriptación -------------------------------"
   ]
  },
  {
   "cell_type": "code",
   "execution_count": null,
   "metadata": {},
   "outputs": [],
   "source": [
    "messageInt = 0\n",
    "encryptedMsg = \"\"\n",
    "\n",
    "def encrypt():\n",
    "    global encryptedMsg\n",
    "    encryptedMsg = str(pow(messageInt, a, n))\n",
    "    print(\"El mensaje encriptado es: \" + encryptedMsg+\"\\n\")\n",
    "    print(\"Claves Publicas: \\n\"\n",
    "          +printYellow(\"    n = \") + str(n)+\"\\n\"\n",
    "          +printYellow(\"    a = \") + str(a)+\"\\n\")\n"
   ]
  },
  {
   "cell_type": "code",
   "execution_count": null,
   "metadata": {},
   "outputs": [],
   "source": [
    "def enterData():\n",
    "    global messageInt\n",
    "    mensaje = input(\"Ingrese el Mensaje a c: \")\n",
    "    messageInt = int(\"\".join([str(ord(letra)) for letra in mensaje]))\n",
    "    print(\"Mensaje en codigo ASCII: \" + str(messageInt))"
   ]
  },
  {
   "cell_type": "code",
   "execution_count": null,
   "metadata": {},
   "outputs": [],
   "source": [
    "enterData()"
   ]
  },
  {
   "cell_type": "code",
   "execution_count": null,
   "metadata": {},
   "outputs": [],
   "source": [
    "encrypt()"
   ]
  }
 ],
 "metadata": {
  "kernelspec": {
   "display_name": "Python 3 (ipykernel)",
   "language": "python",
   "name": "python3"
  },
  "language_info": {
   "codemirror_mode": {
    "name": "ipython",
    "version": 3
   },
   "file_extension": ".py",
   "mimetype": "text/x-python",
   "name": "python",
   "nbconvert_exporter": "python",
   "pygments_lexer": "ipython3",
   "version": "3.10.5"
  }
 },
 "nbformat": 4,
 "nbformat_minor": 1
}
