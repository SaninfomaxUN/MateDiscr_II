{
 "cells": [
  {
   "cell_type": "markdown",
   "metadata": {},
   "source": [
    "## Cifrado RSA"
   ]
  },
  {
   "cell_type": "markdown",
   "metadata": {},
   "source": [
    "###### Presentado por:\n",
    "    → David Santiago Cruz Hernandez\n",
    "    → David Alexander Rativa\n",
    "    → Carlos Murcia\n",
    "    → Ivan .... ? :v"
   ]
  },
  {
   "cell_type": "markdown",
   "metadata": {},
   "source": [
    " ----------------------------- Variables Iniciales -------------------------------"
   ]
  },
  {
   "cell_type": "code",
   "execution_count": 1,
   "metadata": {},
   "outputs": [],
   "source": [
    "from sympy import isprime, randprime\n",
    "from copy import deepcopy\n",
    "import math\n",
    "import random\n",
    "\n",
    "p = 0\n",
    "q = 0\n",
    "n = 0\n",
    "a = 0\n",
    "totientN = 0\n",
    "b = 0\n",
    "DicResiduos = {}\n",
    "igualdadBase = []"
   ]
  },
  {
   "cell_type": "markdown",
   "metadata": {},
   "source": [
    " ----------------------------- Metodos de Impresión -------------------------------"
   ]
  },
  {
   "cell_type": "code",
   "execution_count": 2,
   "metadata": {},
   "outputs": [],
   "source": [
    "def bold(Str):\n",
    "    return \"\\033[1m\" + Str + \"\\033[0m\"\n",
    "\n",
    "\n",
    "def printYellow(Str):\n",
    "    return \"\\033[93m\" + Str + \"\\033[0m\"\n",
    "\n",
    "\n",
    "def printRed(Str):\n",
    "    return \"\\033[91m\" + Str + \"\\033[0m\""
   ]
  },
  {
   "cell_type": "code",
   "execution_count": 3,
   "metadata": {},
   "outputs": [],
   "source": [
    "def imprimirAlgoritmo(A, B, Q, R):\n",
    "    if R == 0:\n",
    "        print(str(A) + \" = \" + str(Q) + \"•\" + str(B) + \" + \" + bold(str(R)))\n",
    "    elif B % R == 0:\n",
    "        if R == 1:\n",
    "            print(str(A) + \" = \" + str(Q) + \"•\" + str(B) + \" + \" + printYellow(str(R)))\n",
    "        else:\n",
    "            print(str(A) + \" = \" + str(Q) + \"•\" + str(B) + \" + \" + printRed(str(R)))\n",
    "\n",
    "    else:\n",
    "        print(str(A) + \" = \" + str(Q) + \"•\" + str(B) + \" + \" + str(R))"
   ]
  },
  {
   "cell_type": "code",
   "execution_count": 4,
   "metadata": {},
   "outputs": [],
   "source": [
    "def imprimirIgualdadBase(igualdadAntigua, igualdadBase, sustitucion, opc2):\n",
    "    if opc2 == 1:\n",
    "        sustitucion = str(igualdadAntigua[1][0]) + \" [\" + str(sustitucion[0]) + \" - \" + str(sustitucion[1]) + \"•\" + str(sustitucion[2]) + \"] - \" + str(igualdadAntigua[2][0]) + \" (\" + str(igualdadAntigua[2][1]) + \")\"\n",
    "    else:\n",
    "        sustitucion = str(igualdadAntigua[1][0]) + \" (\" + str(igualdadAntigua[1][1]) + \") - \" + str(igualdadAntigua[2][0]) + \" [\" + str(sustitucion[0]) + \" - \" + str(sustitucion[1]) + \"•\" + str(sustitucion[2]) + \"]\"\n",
    "    print(bold(str(igualdadBase[0]) + \" = \")  + sustitucion\n",
    "          + bold( \"    =    \")  + str(igualdadBase[1][0]) + \" (\" + str(igualdadBase[1][1]) + \") - \" + str(igualdadBase[2][0]) + \" (\" + str(igualdadBase[2][1]) + \")\\n\")"
   ]
  },
  {
   "cell_type": "markdown",
   "metadata": {},
   "source": [
    "##### ----------------------------- 1. Escoger 2 números primos grandes Aleatorios -------------------------------"
   ]
  },
  {
   "cell_type": "code",
   "execution_count": 5,
   "metadata": {},
   "outputs": [],
   "source": [
    "def choose2LargePrimes():\n",
    "    global p\n",
    "    global q\n",
    "    p = randprime(100000000, 1000000000)\n",
    "    q = randprime(100000000, 1000000000)\n",
    "    print(printYellow(\"p = \") + str(p))\n",
    "    print(printYellow(\"q = \") + str(q))"
   ]
  },
  {
   "cell_type": "code",
   "execution_count": 6,
   "metadata": {},
   "outputs": [
    {
     "name": "stdout",
     "output_type": "stream",
     "text": [
      "\u001b[93mp = \u001b[0m904862891\n",
      "\u001b[93mq = \u001b[0m644950699\n"
     ]
    }
   ],
   "source": [
    "choose2LargePrimes()"
   ]
  },
  {
   "cell_type": "markdown",
   "metadata": {},
   "source": [
    "##### ----------------------------- 2. Calcular n (Multiplicación de p y q) -------------------------------"
   ]
  },
  {
   "cell_type": "code",
   "execution_count": 7,
   "metadata": {},
   "outputs": [
    {
     "name": "stdout",
     "output_type": "stream",
     "text": [
      "\u001b[93mn =\u001b[0m p•q = 904862891•644950699 = 583591954049610809\n"
     ]
    }
   ],
   "source": [
    "def computePxQ():\n",
    "    global n\n",
    "    n = p * q\n",
    "    print(printYellow(\"n =\") + \" p•q = \" + str(p) + \"•\" + str(q) + \" = \" + str(n))\n",
    "computePxQ()"
   ]
  },
  {
   "cell_type": "markdown",
   "metadata": {},
   "source": [
    "##### ----------------------------- 3. Calcular Totient de Euler -------------------------------"
   ]
  },
  {
   "cell_type": "code",
   "execution_count": 8,
   "metadata": {},
   "outputs": [
    {
     "name": "stdout",
     "output_type": "stream",
     "text": [
      "\u001b[93m\u001b[1mφ(n) = \u001b[0m\u001b[0m(p - 1) • (q - 1) = (904862891 - 1) • (644950699 - 1) = 583591952499797220\n"
     ]
    }
   ],
   "source": [
    "def computeTotientEuler():\n",
    "    global totientN\n",
    "    totientN = (p - 1) * (q - 1)\n",
    "    print(printYellow(bold(\"φ(n) = \")) +  \"(p - 1) • (q - 1) = (\" + str(p) + \" - 1) • (\" + str(q) + \" - 1) = \" + str(totientN))\n",
    "computeTotientEuler()"
   ]
  },
  {
   "cell_type": "markdown",
   "metadata": {},
   "source": [
    "##### ----------------------------- 4. Escoger a Aleatorio que sea ≥ 2 y ≤ φ(n), tal que a y φ(n) sean Primos relativos (GDC(a, φ(n)) = 1).  -------------------------------"
   ]
  },
  {
   "cell_type": "markdown",
   "metadata": {},
   "source": [
    "##### Para ello, se van generando y probando números aleatorios, de tal forma que por medio del algoritmo de Euclides, se determine un a que sea un primo relativo de φ(n)."
   ]
  },
  {
   "cell_type": "code",
   "execution_count": 9,
   "metadata": {},
   "outputs": [],
   "source": [
    "def chooseGCDAandTotient():\n",
    "    global a\n",
    "    global totientN\n",
    "    print(printYellow(\"   --- Algoritmo para calcular un número Aleatorio a que sea ≥ 2 y ≤ \" + bold(str(totientN)))  + printYellow(\", tal que a y \" + bold(str(totientN))) + printYellow(\" sean Primos Relativos. \" + \"\\n\\n \"))\n",
    "\n",
    "    GCD = 0\n",
    "    contador = 0\n",
    "    while GCD != 1:\n",
    "        contador += 1\n",
    "        print(bold(\"  ----  INTENTO # \" + str(contador)+ \"  ----  \") + \"\\n\")\n",
    "        a = random.randint(2,65537)#totientN\n",
    "        GCD = algoritmoEuclides(a, totientN)"
   ]
  },
  {
   "cell_type": "code",
   "execution_count": 10,
   "metadata": {},
   "outputs": [],
   "source": [
    "def algoritmoDivision(A, B):\n",
    "    Q = math.trunc(A / B)\n",
    "    R = A - Q * B\n",
    "    imprimirAlgoritmo(A, B, Q, R)\n",
    "    insertarMatriz(A,Q,B,R)\n",
    "    return B, R"
   ]
  },
  {
   "cell_type": "code",
   "execution_count": 11,
   "metadata": {},
   "outputs": [],
   "source": [
    "def algoritmoEuclides(A, B):\n",
    "    GCD = 0\n",
    "    global DicResiduos\n",
    "    global igualdadBase\n",
    "    DicResiduos = {}\n",
    "    igualdadBase = []\n",
    "\n",
    "    print(bold(\"Algoritmo de la División:\") + \" a = q•b + r\\n\")\n",
    "    print(bold(\"a = \") + str(A) + \", \" + bold(\"b = \" + printYellow(bold(\"φ(n) = \"))) + str(B) + \"\\n\")\n",
    "    resultA, resultB = algoritmoDivision(A, B)\n",
    "    while resultB != 0:\n",
    "        if resultA % resultB == 0:\n",
    "            GCD = resultB\n",
    "        resultA, resultB = algoritmoDivision(resultA, resultB)\n",
    "\n",
    "    if resultA ==1:\n",
    "        print(\"\\n\" + bold(\"El Máximo Común Divisor entre \" + str(A) + \" y \" + str(B) + \" es: \") + printYellow(str(resultA)) + \".\\n\" +\n",
    "                printYellow(\"  ---- Por lo tanto, a y φ(n) SI son Primos Relativos ✅ ----  \") + \"\\n\\n\\n\" +\n",
    "                printYellow(\"        a = \") + str(A) + \"\\n\")\n",
    "    else:\n",
    "        print(\"\\n\" + bold(\"El Máximo Común Divisor entre \" + str(A) + \" y \" + str(B) + \" es: \") + printRed(str(resultA)) + \".\\n\" +\n",
    "                 printRed(\"  ---- Por lo tanto, a y φ(n) NO son Primos Relativos ❌ ----  \") + \"\\n\\n\\n\")\n",
    "    return GCD"
   ]
  },
  {
   "cell_type": "code",
   "execution_count": 12,
   "metadata": {},
   "outputs": [],
   "source": [
    "def insertarMatriz(A,Q,B,R):\n",
    "    if R>=1:\n",
    "        DicResiduos[R] = [A,Q,B]\n",
    "        if R==1:\n",
    "            global igualdadBase\n",
    "            igualdadBase =[R,[1,A],[Q,B]]"
   ]
  },
  {
   "cell_type": "code",
   "execution_count": 13,
   "metadata": {},
   "outputs": [
    {
     "name": "stdout",
     "output_type": "stream",
     "text": [
      "\u001b[93m   --- Algoritmo para calcular un número Aleatorio a que sea ≥ 2 y ≤ \u001b[1m583591952499797220\u001b[0m\u001b[0m\u001b[93m, tal que a y \u001b[1m583591952499797220\u001b[0m\u001b[0m\u001b[93m sean Primos Relativos. \n",
      "\n",
      " \u001b[0m\n",
      "\u001b[1m  ----  INTENTO # 1  ----  \u001b[0m\n",
      "\n",
      "\u001b[1mAlgoritmo de la División:\u001b[0m a = q•b + r\n",
      "\n",
      "\u001b[1ma = \u001b[0m336, \u001b[1mb = \u001b[93m\u001b[1mφ(n) = \u001b[0m\u001b[0m\u001b[0m583591952499797220\n",
      "\n",
      "336 = 0•583591952499797220 + 336\n",
      "583591952499797220 = 1736880811011301•336 + \u001b[91m84\u001b[0m\n",
      "336 = 4•84 + \u001b[1m0\u001b[0m\n",
      "\n",
      "\u001b[1mEl Máximo Común Divisor entre 336 y 583591952499797220 es: \u001b[0m\u001b[91m84\u001b[0m.\n",
      "\u001b[91m  ---- Por lo tanto, a y φ(n) NO son Primos Relativos ❌ ----  \u001b[0m\n",
      "\n",
      "\n",
      "\n",
      "\u001b[1m  ----  INTENTO # 2  ----  \u001b[0m\n",
      "\n",
      "\u001b[1mAlgoritmo de la División:\u001b[0m a = q•b + r\n",
      "\n",
      "\u001b[1ma = \u001b[0m40365, \u001b[1mb = \u001b[93m\u001b[1mφ(n) = \u001b[0m\u001b[0m\u001b[0m583591952499797220\n",
      "\n",
      "40365 = 0•583591952499797220 + 40365\n",
      "583591952499797220 = 14457870741974•40365 + 16710\n",
      "40365 = 2•16710 + 6945\n",
      "16710 = 2•6945 + 2820\n",
      "6945 = 2•2820 + 1305\n",
      "2820 = 2•1305 + 210\n",
      "1305 = 6•210 + 45\n",
      "210 = 4•45 + 30\n",
      "45 = 1•30 + \u001b[91m15\u001b[0m\n",
      "30 = 2•15 + \u001b[1m0\u001b[0m\n",
      "\n",
      "\u001b[1mEl Máximo Común Divisor entre 40365 y 583591952499797220 es: \u001b[0m\u001b[91m15\u001b[0m.\n",
      "\u001b[91m  ---- Por lo tanto, a y φ(n) NO son Primos Relativos ❌ ----  \u001b[0m\n",
      "\n",
      "\n",
      "\n",
      "\u001b[1m  ----  INTENTO # 3  ----  \u001b[0m\n",
      "\n",
      "\u001b[1mAlgoritmo de la División:\u001b[0m a = q•b + r\n",
      "\n",
      "\u001b[1ma = \u001b[0m43695, \u001b[1mb = \u001b[93m\u001b[1mφ(n) = \u001b[0m\u001b[0m\u001b[0m583591952499797220\n",
      "\n",
      "43695 = 0•583591952499797220 + 43695\n",
      "583591952499797220 = 13356035072658•43695 + 5910\n",
      "43695 = 7•5910 + 2325\n",
      "5910 = 2•2325 + 1260\n",
      "2325 = 1•1260 + 1065\n",
      "1260 = 1•1065 + 195\n",
      "1065 = 5•195 + 90\n",
      "195 = 2•90 + \u001b[91m15\u001b[0m\n",
      "90 = 6•15 + \u001b[1m0\u001b[0m\n",
      "\n",
      "\u001b[1mEl Máximo Común Divisor entre 43695 y 583591952499797220 es: \u001b[0m\u001b[91m15\u001b[0m.\n",
      "\u001b[91m  ---- Por lo tanto, a y φ(n) NO son Primos Relativos ❌ ----  \u001b[0m\n",
      "\n",
      "\n",
      "\n",
      "\u001b[1m  ----  INTENTO # 4  ----  \u001b[0m\n",
      "\n",
      "\u001b[1mAlgoritmo de la División:\u001b[0m a = q•b + r\n",
      "\n",
      "\u001b[1ma = \u001b[0m25267, \u001b[1mb = \u001b[93m\u001b[1mφ(n) = \u001b[0m\u001b[0m\u001b[0m583591952499797220\n",
      "\n",
      "25267 = 0•583591952499797220 + 25267\n",
      "583591952499797220 = 23097002117378•25267 + 7294\n",
      "25267 = 3•7294 + 3385\n",
      "7294 = 2•3385 + 524\n",
      "3385 = 6•524 + 241\n",
      "524 = 2•241 + 42\n",
      "241 = 5•42 + 31\n",
      "42 = 1•31 + 11\n",
      "31 = 2•11 + 9\n",
      "11 = 1•9 + 2\n",
      "9 = 4•2 + \u001b[93m1\u001b[0m\n",
      "2 = 2•1 + \u001b[1m0\u001b[0m\n",
      "\n",
      "\u001b[1mEl Máximo Común Divisor entre 25267 y 583591952499797220 es: \u001b[0m\u001b[93m1\u001b[0m.\n",
      "\u001b[93m  ---- Por lo tanto, a y φ(n) SI son Primos Relativos ✅ ----  \u001b[0m\n",
      "\n",
      "\n",
      "\u001b[93m        a = \u001b[0m25267\n",
      "\n"
     ]
    }
   ],
   "source": [
    "chooseGCDAandTotient()"
   ]
  },
  {
   "cell_type": "markdown",
   "metadata": {},
   "source": [
    "#####  ----------------------------- 5. Calcular el Inverso Multiplicativo de a mod φ(n)  -------------------------------"
   ]
  },
  {
   "cell_type": "code",
   "execution_count": 14,
   "metadata": {},
   "outputs": [],
   "source": [
    "def computeB():\n",
    "    print(printYellow(\"   --- Algoritmo para calcular el Inverso Multiplicativo de \" + bold(str(a) + \" mod \" + str(totientN) + \". ---   \")) + \"\\n\\n \")\n",
    "    #algoritmoEuclides(a, totientN)\n",
    "    sustitucionAtras()\n",
    "    obtenerInverso(a,totientN)"
   ]
  },
  {
   "cell_type": "code",
   "execution_count": 15,
   "metadata": {},
   "outputs": [],
   "source": [
    "def sustitucionAtras():\n",
    "    print(bold(\"    IDENTIDAD DE BEZOUT    \\n\"))\n",
    "    residuos = list(DicResiduos.keys())\n",
    "    residuos.remove(1)\n",
    "    for residuo in reversed(residuos):\n",
    "        identidadBezout(residuo)"
   ]
  },
  {
   "cell_type": "code",
   "execution_count": 16,
   "metadata": {},
   "outputs": [],
   "source": [
    "def identidadBezout(residuo):\n",
    "    sustitucion = DicResiduos[residuo]\n",
    "    if residuo == igualdadBase[1][1]:\n",
    "        opc1 = 2\n",
    "        opc2 = 1\n",
    "    else:\n",
    "        opc1 = 1\n",
    "        opc2 = 2\n",
    "    igualdadAntigua = deepcopy(igualdadBase)\n",
    "    igualdadBase[opc1][0] = igualdadBase[opc1][0] + igualdadBase[opc2][0]*sustitucion[1]\n",
    "    igualdadBase[opc2][1] = sustitucion[0]\n",
    "    #print(sustitucion)\n",
    "    #print(igualdadBase)\n",
    "    imprimirIgualdadBase(igualdadAntigua,igualdadBase, sustitucion, opc2)"
   ]
  },
  {
   "cell_type": "code",
   "execution_count": 17,
   "metadata": {},
   "outputs": [],
   "source": [
    "def obtenerInverso(A, N):\n",
    "    global b\n",
    "    inversa = 0\n",
    "    if A == igualdadBase[1][1]:\n",
    "        inversa = igualdadBase[1][0]\n",
    "    elif A == igualdadBase[2][1]:\n",
    "        inversa = -igualdadBase[2][0]\n",
    "    if inversa<0:\n",
    "        print(\"\\n     → Como se debe tomar el Inverso a partir del residuo minimo, entonces se calcula el Inverso mínimo congruente:\\n\")\n",
    "        inversaOrig = inversa\n",
    "        inversa = inversa + N\n",
    "        print(\"           \"+str(A) + \" (\" +  str(inversaOrig) + \")  ≅  \" + str(A) + printYellow(\" (\" +  str(inversaOrig) + \" + \" + str(N) + \")\") + \"  ≅  \" + str(A) + printYellow(\" (\" +  str(inversaOrig + N) + \")\") +   \" mod \" +  str(N))\n",
    "    print(printYellow(\"\\n   ---  El Inverso Multiplicativo de \" + str(A) + \" mod \" + str(N) + \" es: \" + bold(str(inversa)) + \"  ---\") )\n",
    "    print()\n",
    "    print(bold(\"COMPROBACIÓN:       \") +str(A) + printYellow( \" (\" + str(inversa) + \")\") + \" ≅ 1 mod \" + str(N) + \" ✅\" )\n",
    "    b = inversa\n",
    "    print(\"\\n\\n\\n\" + printYellow(\"        b = \") + str(b) + \"\\n\")"
   ]
  },
  {
   "cell_type": "code",
   "execution_count": 18,
   "metadata": {},
   "outputs": [
    {
     "name": "stdout",
     "output_type": "stream",
     "text": [
      "\u001b[93m   --- Algoritmo para calcular el Inverso Multiplicativo de \u001b[1m25267 mod 583591952499797220. ---   \u001b[0m\u001b[0m\n",
      "\n",
      " \n",
      "\u001b[1m    IDENTIDAD DE BEZOUT    \n",
      "\u001b[0m\n",
      "\u001b[1m1 = \u001b[0m1 (9) - 4 [11 - 1•9]\u001b[1m    =    \u001b[0m5 (9) - 4 (11)\n",
      "\n",
      "\u001b[1m1 = \u001b[0m5 [31 - 2•11] - 4 (11)\u001b[1m    =    \u001b[0m5 (31) - 14 (11)\n",
      "\n",
      "\u001b[1m1 = \u001b[0m5 (31) - 14 [42 - 1•31]\u001b[1m    =    \u001b[0m19 (31) - 14 (42)\n",
      "\n",
      "\u001b[1m1 = \u001b[0m19 [241 - 5•42] - 14 (42)\u001b[1m    =    \u001b[0m19 (241) - 109 (42)\n",
      "\n",
      "\u001b[1m1 = \u001b[0m19 (241) - 109 [524 - 2•241]\u001b[1m    =    \u001b[0m237 (241) - 109 (524)\n",
      "\n",
      "\u001b[1m1 = \u001b[0m237 [3385 - 6•524] - 109 (524)\u001b[1m    =    \u001b[0m237 (3385) - 1531 (524)\n",
      "\n",
      "\u001b[1m1 = \u001b[0m237 (3385) - 1531 [7294 - 2•3385]\u001b[1m    =    \u001b[0m3299 (3385) - 1531 (7294)\n",
      "\n",
      "\u001b[1m1 = \u001b[0m3299 [25267 - 3•7294] - 1531 (7294)\u001b[1m    =    \u001b[0m3299 (25267) - 11428 (7294)\n",
      "\n",
      "\u001b[1m1 = \u001b[0m3299 (25267) - 11428 [583591952499797220 - 23097002117378•25267]\u001b[1m    =    \u001b[0m263952540197399083 (25267) - 11428 (583591952499797220)\n",
      "\n",
      "\u001b[1m1 = \u001b[0m263952540197399083 [25267 - 0•583591952499797220] - 11428 (583591952499797220)\u001b[1m    =    \u001b[0m263952540197399083 (25267) - 11428 (583591952499797220)\n",
      "\n",
      "\u001b[93m\n",
      "   ---  El Inverso Multiplicativo de 25267 mod 583591952499797220 es: \u001b[1m263952540197399083\u001b[0m  ---\u001b[0m\n",
      "\n",
      "\u001b[1mCOMPROBACIÓN:       \u001b[0m25267\u001b[93m (263952540197399083)\u001b[0m ≅ 1 mod 583591952499797220 ✅\n",
      "\n",
      "\n",
      "\n",
      "\u001b[93m        b = \u001b[0m263952540197399083\n",
      "\n"
     ]
    }
   ],
   "source": [
    "computeB()"
   ]
  },
  {
   "cell_type": "markdown",
   "metadata": {},
   "source": [
    "#####  ----------------------------- Claves y Datos calculados  -------------------------------"
   ]
  },
  {
   "cell_type": "code",
   "execution_count": 19,
   "metadata": {},
   "outputs": [],
   "source": [
    "def publicarClaves():\n",
    "    print(\"Claves - Datos publicos: \\n\"\n",
    "          +printYellow(\"    n = \") + str(n)+\"\\n\"\n",
    "          +printYellow(\"    a = \") + str(a)+\"\\n\")\n",
    "\n",
    "    print(\"Claves - Datos privados: \\n\"\n",
    "          +printYellow(\"    p = \") + str(p)+\"\\n\"\n",
    "          +printYellow(\"    q = \") + str(q)+\"\\n\"\n",
    "          +printYellow(\"    b = \") + str(b)+\"\\n\\n\")"
   ]
  },
  {
   "cell_type": "code",
   "execution_count": 20,
   "metadata": {},
   "outputs": [
    {
     "name": "stdout",
     "output_type": "stream",
     "text": [
      "Claves - Datos publicos: \n",
      "\u001b[93m    n = \u001b[0m583591954049610809\n",
      "\u001b[93m    a = \u001b[0m25267\n",
      "\n",
      "Claves - Datos privados: \n",
      "\u001b[93m    p = \u001b[0m904862891\n",
      "\u001b[93m    q = \u001b[0m644950699\n",
      "\u001b[93m    b = \u001b[0m263952540197399083\n",
      "\n",
      "\n"
     ]
    }
   ],
   "source": [
    "publicarClaves()"
   ]
  },
  {
   "cell_type": "markdown",
   "metadata": {},
   "source": [
    "####  ----------------------------- Función de Encriptación -------------------------------"
   ]
  },
  {
   "cell_type": "code",
   "execution_count": 21,
   "metadata": {
    "pycharm": {
     "is_executing": true
    }
   },
   "outputs": [],
   "source": [
    "mensajeInt = []\n",
    "encryptedMsg = \"\"\n",
    "\n",
    "def encrypt():\n",
    "    global encryptedMsg\n",
    "    encryptedMsg = \"\"\n",
    "    for value in mensajeInt:\n",
    "        encryptedMsg = encryptedMsg + str(pow(value,a,n))\n",
    "    print(encryptedMsg)"
   ]
  },
  {
   "cell_type": "code",
   "execution_count": 22,
   "metadata": {
    "pycharm": {
     "is_executing": true
    }
   },
   "outputs": [],
   "source": [
    "def ingresarDatos():\n",
    "    global mensajeInt\n",
    "    mensaje = input(\"Ingrese el Mensaje a c: \")\n",
    "    mensajeInt = [ord(letra) for letra in mensaje]"
   ]
  },
  {
   "cell_type": "code",
   "execution_count": 23,
   "metadata": {},
   "outputs": [
    {
     "name": "stdout",
     "output_type": "stream",
     "text": [
      "Ingrese el Mensaje a c: HOLA\n"
     ]
    }
   ],
   "source": [
    "ingresarDatos()"
   ]
  },
  {
   "cell_type": "code",
   "execution_count": 24,
   "metadata": {},
   "outputs": [
    {
     "name": "stdout",
     "output_type": "stream",
     "text": [
      "472069047060688911842780622173941815598388962123041784663657926490766\n"
     ]
    }
   ],
   "source": [
    "encrypt()"
   ]
  },
  {
   "cell_type": "code",
   "execution_count": null,
   "metadata": {},
   "outputs": [],
   "source": []
  },
  {
   "cell_type": "code",
   "execution_count": null,
   "metadata": {},
   "outputs": [],
   "source": []
  }
 ],
 "metadata": {
  "kernelspec": {
   "display_name": "Python 3 (ipykernel)",
   "language": "python",
   "name": "python3"
  },
  "language_info": {
   "codemirror_mode": {
    "name": "ipython",
    "version": 3
   },
   "file_extension": ".py",
   "mimetype": "text/x-python",
   "name": "python",
   "nbconvert_exporter": "python",
   "pygments_lexer": "ipython3",
   "version": "3.10.5"
  }
 },
 "nbformat": 4,
 "nbformat_minor": 1
}
