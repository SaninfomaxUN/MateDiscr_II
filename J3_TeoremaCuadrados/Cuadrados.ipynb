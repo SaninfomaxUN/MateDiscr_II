{
 "cells": [
  {
   "cell_type": "markdown",
   "source": [
    "<h1>Taller #3: Cálculo del Teorema de mínimos Cuadrados para cualquier Número.</h1>"
   ],
   "metadata": {
    "collapsed": false
   }
  },
  {
   "cell_type": "markdown",
   "source": [
    "<h4> Presentado por: David Santiago Cruz Hernandez</h4>\n",
    "<h4> Asignatura: Matemáticas Discretas II </h4>"
   ],
   "metadata": {
    "collapsed": false
   }
  },
  {
   "cell_type": "code",
   "execution_count": 1,
   "outputs": [],
   "source": [
    "import math\n",
    "import time\n",
    "def ingresarN():\n",
    "    global n\n",
    "    n = int(input(\"Ingrese el número:\"))"
   ],
   "metadata": {
    "collapsed": false
   }
  },
  {
   "cell_type": "code",
   "execution_count": 2,
   "outputs": [],
   "source": [
    "def calcularRaizEntera(base):\n",
    "    return math.trunc(math.sqrt(base))"
   ],
   "metadata": {
    "collapsed": false
   }
  },
  {
   "cell_type": "code",
   "execution_count": 3,
   "outputs": [],
   "source": [
    "def calcularMatrizCuadrados():\n",
    "    MatrizPosibilidades = []\n",
    "    base = n\n",
    "    for baseInicial in range(2,calcularRaizEntera(base)+1):\n",
    "        listaMinimosCuadrados = calcularCuadradoSegunBase(base - math.pow(baseInicial, 2), baseInicial)\n",
    "        if listaMinimosCuadrados not in MatrizPosibilidades:\n",
    "            MatrizPosibilidades.append(listaMinimosCuadrados)\n",
    "    #print(MatrizPosibilidades)\n",
    "    buscarMinimaLista(MatrizPosibilidades)\n"
   ],
   "metadata": {
    "collapsed": false
   }
  },
  {
   "cell_type": "code",
   "execution_count": 4,
   "outputs": [],
   "source": [
    "def calcularCuadradoSegunBase(siguienteBase, potenciaBase):\n",
    "    listaMinimosCuadrados = [potenciaBase]\n",
    "    while True:\n",
    "            if siguienteBase != 0:\n",
    "                raizEntera = calcularRaizEntera(siguienteBase)\n",
    "                siguienteBase = siguienteBase - math.pow(raizEntera, 2)\n",
    "\n",
    "                listaMinimosCuadrados.append(raizEntera)\n",
    "            else:\n",
    "                break\n",
    "    listaMinimosCuadrados.sort(reverse=True)\n",
    "    return listaMinimosCuadrados"
   ],
   "metadata": {
    "collapsed": false
   }
  },
  {
   "cell_type": "code",
   "execution_count": 5,
   "outputs": [],
   "source": [
    "def buscarMinimaLista(MatrizPosibilidades):\n",
    "    minimaLista = MatrizPosibilidades.pop(0)\n",
    "    for lista in MatrizPosibilidades:\n",
    "        if len(lista) < len(minimaLista):\n",
    "            minimaLista = lista\n",
    "    imprimirCuadrados(minimaLista)"
   ],
   "metadata": {
    "collapsed": false
   }
  },
  {
   "cell_type": "code",
   "execution_count": 6,
   "outputs": [],
   "source": [
    "def imprimirCuadrados(listaMinimosCuadrados):\n",
    "    strCuadrados = \"\"\n",
    "    for cuadrado in listaMinimosCuadrados:\n",
    "        strCuadrados = strCuadrados + str(cuadrado) + str(chr(0x00b2)) + \" + \"\n",
    "    print(\"El mínimo número de cuadrados que conforman a \" + str(n) + \" son: \" + str(len(listaMinimosCuadrados)))\n",
    "    print(strCuadrados[:-2])"
   ],
   "metadata": {
    "collapsed": false
   }
  },
  {
   "cell_type": "code",
   "execution_count": 11,
   "outputs": [
    {
     "name": "stdout",
     "output_type": "stream",
     "text": [
      "El mínimo número de cuadrados que conforman a 27185797 son: 2\n",
      "4746² + 2159² \n",
      "Tiempo: 0.13\n"
     ]
    }
   ],
   "source": [
    "ingresarN()\n",
    "inicio1 = time.time()\n",
    "calcularMatrizCuadrados()\n",
    "\n",
    "fin1 = time.time()\n",
    "Tiempo1 = round(fin1-inicio1,2)\n",
    "print(\"Tiempo: \" + str(Tiempo1))"
   ],
   "metadata": {
    "collapsed": false
   }
  },
  {
   "cell_type": "code",
   "execution_count": null,
   "outputs": [],
   "source": [],
   "metadata": {
    "collapsed": false
   }
  }
 ],
 "metadata": {
  "kernelspec": {
   "display_name": "Python 3",
   "language": "python",
   "name": "python3"
  },
  "language_info": {
   "codemirror_mode": {
    "name": "ipython",
    "version": 2
   },
   "file_extension": ".py",
   "mimetype": "text/x-python",
   "name": "python",
   "nbconvert_exporter": "python",
   "pygments_lexer": "ipython2",
   "version": "2.7.6"
  }
 },
 "nbformat": 4,
 "nbformat_minor": 0
}
