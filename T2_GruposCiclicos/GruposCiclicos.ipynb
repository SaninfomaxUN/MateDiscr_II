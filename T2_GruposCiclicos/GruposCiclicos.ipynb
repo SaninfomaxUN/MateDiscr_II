{
 "cells": [
  {
   "cell_type": "markdown",
   "metadata": {},
   "source": [
    "<h1>Taller #2: Cálculo del número de generadores del Grupo Cíclico de G</h1>"
   ]
  },
  {
   "cell_type": "markdown",
   "metadata": {},
   "source": [
    "<h4> Presentado por: David Santiago Cruz Hernandez</h4>\n",
    "<h4> Asignatura: Matemáticas Discretas II </h4>"
   ]
  },
  {
   "cell_type": "code",
   "execution_count": null,
   "metadata": {},
   "outputs": [],
   "source": [
    "import time\n",
    "numGeneradoresGCiclico = 0\n",
    "dicDescomposicionPrimosGrupo = {}"
   ]
  },
  {
   "cell_type": "code",
   "execution_count": null,
   "metadata": {},
   "outputs": [],
   "source": [
    "def bold(texto):\n",
    "    return \"\\033[1m\" + texto + \"\\033[0m\""
   ]
  },
  {
   "cell_type": "code",
   "execution_count": null,
   "metadata": {},
   "outputs": [],
   "source": [
    "def imprimirSuperIndice(indice):\n",
    "    if indice == 1:\n",
    "        return str(chr(0x00b9))\n",
    "    elif 2 <= indice <= 3:\n",
    "        return str(chr(0x00b0 + indice))\n",
    "    else:\n",
    "        return str(chr(0x2070 + indice))\n"
   ]
  },
  {
   "cell_type": "markdown",
   "source": [
    "#### Ingreso de N:"
   ],
   "metadata": {
    "collapsed": false
   }
  },
  {
   "cell_type": "code",
   "execution_count": null,
   "outputs": [],
   "source": [
    "n = int(input(\"Ingrese el Orden de G:\"))"
   ],
   "metadata": {
    "collapsed": false
   }
  },
  {
   "cell_type": "code",
   "execution_count": null,
   "metadata": {},
   "outputs": [],
   "source": [
    "Grupo = []\n",
    "for num in range(1,n+1):\n",
    "    Grupo.append(num)"
   ]
  },
  {
   "cell_type": "markdown",
   "metadata": {},
   "source": [
    "### Metodo Alternativo:\n",
    "##### Comprobación por medio del siguiente *Lema*:"
   ]
  },
  {
   "cell_type": "markdown",
   "metadata": {},
   "source": [
    "###### • **i)** φ(I) = 1\n",
    "###### • **ii)** Si *p* es **primo**, entonces el **φ($p^{a}$) =** $p^{a}$ - $p^{a-1}$\n",
    "###### • **iii)** Si *mcd(m,n)* = 1, entonces el **φ(m•n) =** φ(m) + φ(n)"
   ]
  },
  {
   "cell_type": "code",
   "execution_count": null,
   "metadata": {},
   "outputs": [],
   "source": [
    "def calcularDescomposicionPrimos(resultadoDivision,dicDescomposicionPrimos):\n",
    "    potencia = 1\n",
    "    for divisor in range(2,len(Grupo)):\n",
    "        while resultadoDivision%divisor==0:\n",
    "            resultadoDivision = resultadoDivision/divisor\n",
    "            if divisor not in dicDescomposicionPrimos:\n",
    "                potencia = 1\n",
    "            dicDescomposicionPrimos[divisor] = potencia\n",
    "            potencia+=1\n",
    "        if resultadoDivision ==1:\n",
    "            break\n",
    "    return dicDescomposicionPrimos"
   ]
  },
  {
   "cell_type": "code",
   "execution_count": null,
   "metadata": {},
   "outputs": [],
   "source": [
    "def LemaTotientEulerPrimos():\n",
    "    resultado = 1\n",
    "    for primo in dicDescomposicionPrimosGrupo:\n",
    "        indice = dicDescomposicionPrimosGrupo.get(primo)\n",
    "        resultado = resultado * (pow(primo,indice) - pow(primo,indice-1))\n",
    "    return resultado\n"
   ]
  },
  {
   "cell_type": "code",
   "execution_count": null,
   "metadata": {},
   "outputs": [],
   "source": [
    "def imprimirCadenaDescomposicion():\n",
    "    strDescomposicion = \"\"\n",
    "    for base in dicDescomposicionPrimosGrupo:\n",
    "        strIndice = imprimirSuperIndice(dicDescomposicionPrimosGrupo[base])\n",
    "        strDescomposicion = strDescomposicion + str(base) + strIndice + \"•\"\n",
    "    return strDescomposicion[0:-1]\n"
   ]
  },
  {
   "cell_type": "code",
   "execution_count": null,
   "metadata": {},
   "outputs": [],
   "source": [
    "def imprimirCadenaDescomposicionTotient():\n",
    "    strLemaIII = \"\"\n",
    "    for potencia in imprimirCadenaDescomposicion().split(\"•\"):\n",
    "        strLemaIII = strLemaIII + \"φ(\" + potencia + \")•\"\n",
    "\n",
    "    strLemaII = \"\"\n",
    "    for base in dicDescomposicionPrimosGrupo:\n",
    "        strLemaII = strLemaII + \"(\" + str(base) + imprimirSuperIndice(dicDescomposicionPrimosGrupo[base]) + \"-\" + str(base) + imprimirSuperIndice(dicDescomposicionPrimosGrupo[base] - 1) + \")•\"\n",
    "    return strLemaIII[0:-1] + \" = \" + strLemaII[0:-1]"
   ]
  },
  {
   "cell_type": "code",
   "execution_count": null,
   "outputs": [],
   "source": [
    "def imprimirMetodoAlternativo():\n",
    "    print(\"                    \" + bold(\"Orden del Grupo G: \" + str(n)) + \"\\n\")\n",
    "    print(\"Tiempo de ejecución del Metodo Alternativo: \" + str(Tiempo2) + \" segundos.\")\n",
    "    print(\"→ Descomposición de Factores Primos de \" + bold(\"n\") + \": \" + imprimirCadenaDescomposicion())\n",
    "    print(bold(\"→ Número de Generadores Cíclicos de G:\"))\n",
    "    print(\"      φ(\" + str(n) + \") = φ(\" + imprimirCadenaDescomposicion() + \") = \" + imprimirCadenaDescomposicionTotient() + \" = \" + str(numGeneradoresGCiclico) )\n",
    "    print(\"→ Por este Metodo, no se obtiene la lista de los Generadores Cíclicos de G, ni los SubGrupos generados.\")"
   ],
   "metadata": {
    "collapsed": false
   }
  },
  {
   "cell_type": "markdown",
   "source": [
    "###### Ejecutar el Metodo Alternativo:"
   ],
   "metadata": {
    "collapsed": false
   }
  },
  {
   "cell_type": "code",
   "execution_count": null,
   "outputs": [],
   "source": [
    "inicio2 = time.time()\n",
    "dicDescomposicionPrimosGrupo = calcularDescomposicionPrimos(len(Grupo), {})\n",
    "numGeneradoresGCiclico = LemaTotientEulerPrimos()\n",
    "\n",
    "fin2 = time.time()\n",
    "Tiempo2 = round(fin2-inicio2,4)\n",
    "\n",
    "imprimirMetodoAlternativo()"
   ],
   "metadata": {
    "collapsed": false
   }
  },
  {
   "cell_type": "markdown",
   "source": [
    "### Método Totient de Euler:\n",
    "##### Comprobación de cada elemento de G. Si mcd(x,n) = 1, entonces ese elemento genera un Grupo Cíclico:"
   ],
   "metadata": {
    "collapsed": false
   }
  },
  {
   "cell_type": "code",
   "execution_count": null,
   "metadata": {},
   "outputs": [],
   "source": [
    "def calcularMCDconGrupo(numGenerador):\n",
    "    listaPrimosComunes = []\n",
    "    mcd = 1\n",
    "    descPrimosNumGenerador = calcularDescomposicionPrimos(numGenerador, {})\n",
    "    menorRepeticion = lambda x, y: x if x <= y else y\n",
    "    for primo in descPrimosNumGenerador:\n",
    "        if primo in dicDescomposicionPrimosGrupo:\n",
    "            listaPrimosComunes.append(\n",
    "                pow(primo, menorRepeticion(descPrimosNumGenerador[primo], dicDescomposicionPrimosGrupo[primo])) )\n",
    "    for primo in listaPrimosComunes:\n",
    "        mcd = mcd * primo\n",
    "    return mcd"
   ]
  },
  {
   "cell_type": "code",
   "execution_count": null,
   "outputs": [],
   "source": [
    "def generadorTotient(numGenerador):\n",
    "    strIndice = \"\"\n",
    "    mcd = calcularMCDconGrupo(numGenerador)\n",
    "    for digit in str(numGenerador):\n",
    "        strIndice = strIndice + imprimirSuperIndice(int(digit))\n",
    "    if mcd == 1:\n",
    "        print(\"< a\" + strIndice + \"> = \" + bold(\"--- Grupo Cíclico de G ---\"))\n",
    "        return True\n",
    "    else:\n",
    "        if mcd == numGenerador or mcd == 1:\n",
    "            print(\"< a\" + strIndice + \"> = \" + \"Subgrupo Cíclico generado por si MISMO\")\n",
    "        else:\n",
    "            print(\"< a\" + strIndice + \"> = \" + \"Subgrupo Cíclico generado por \" + str(mcd))\n",
    "\n",
    "        return False"
   ],
   "metadata": {
    "collapsed": false
   }
  },
  {
   "cell_type": "code",
   "execution_count": null,
   "outputs": [],
   "source": [
    "def imprimirMetodoTotient():\n",
    "    print(\"                                   \" + bold(\"Orden del Grupo G: \" + str(n)) + \"\\n\")\n",
    "    print(bold(\"→ Generadores Cíclicos de G:\"))\n",
    "    print(bold(\"|\") + \" { \" + ', '.join(str(x) for x in GeneradoresGCiclico) + \" } \" + bold(\"|\" + \" = \" + str(numGeneradoresGCiclico))+ \"\\n\")\n",
    "\n",
    "    print(\"Tiempo de ejecución del \" + bold(\"Metodo Totient de Euler\") + \": \" + str(Tiempo1) + \" segundos.\")\n",
    "    print(bold(\"→ Número de Generadores Cíclicos de G: --- φ(\" + str(n) + \") = \" + str(numGeneradoresGCiclico) + \" ---\"))\n",
    "    print(\"→ Por este Metodo, no se obtiene los elementos de los SubGrupos generados por G.\")"
   ],
   "metadata": {
    "collapsed": false
   }
  },
  {
   "cell_type": "markdown",
   "source": [
    "###### Ejecutar el Metodo del Totient:"
   ],
   "metadata": {
    "collapsed": false
   }
  },
  {
   "cell_type": "code",
   "execution_count": null,
   "outputs": [],
   "source": [
    "GeneradoresGCiclico = []\n",
    "numGeneradoresGCiclico=0\n",
    "inicio1 = time.time()\n",
    "\n",
    "for num in Grupo:\n",
    "    if generadorTotient(num):\n",
    "        numGeneradoresGCiclico+=1\n",
    "        GeneradoresGCiclico.append(num)\n",
    "\n",
    "fin1 = time.time()\n",
    "Tiempo1 = round(fin1-inicio1,2)\n",
    "\n",
    "imprimirMetodoTotient()"
   ],
   "metadata": {
    "collapsed": false
   }
  },
  {
   "cell_type": "markdown",
   "source": [
    "### Metodo Tradicional:\n",
    "##### Comprobar si el subgrupo generado por cada elemento es el Grupo Cíclico de G."
   ],
   "metadata": {
    "collapsed": false
   }
  },
  {
   "cell_type": "code",
   "execution_count": null,
   "metadata": {},
   "outputs": [],
   "source": [
    "###### Se calcula cada subgrupo generado por cada elemento (y se almacena en un Set). Luego, se comprueba su tamaño:"
   ]
  },
  {
   "cell_type": "code",
   "execution_count": null,
   "metadata": {},
   "outputs": [],
   "source": [
    "def generador(numGenerador):\n",
    "    SubGrupo = set()\n",
    "    strIndice = \"\"\n",
    "    for indice in Grupo:\n",
    "        SubGrupo.add(indice * numGenerador % n)\n",
    "        if indice * numGenerador % n == 0:\n",
    "            break\n",
    "    for digit in str(numGenerador):\n",
    "        strIndice = strIndice + imprimirSuperIndice(int(digit))\n",
    "    if len(SubGrupo) == len(Grupo):\n",
    "        print(\"< a\" + strIndice + \"> = \" + bold(\"--- Grupo Cíclico de G ---\"))\n",
    "        return True\n",
    "    else:\n",
    "        mcd = calcularMCDconGrupo(numGenerador)\n",
    "        if mcd == numGenerador or mcd == 1:\n",
    "            print(\"< a\" + strIndice + \"> = \", end=\"\")\n",
    "            print(SubGrupo)\n",
    "        else:\n",
    "            print(\"< a\" + strIndice + \"> = \" + \"Subgrupo Cíclico generado por \" + str(mcd))\n",
    "\n",
    "        return False"
   ]
  },
  {
   "cell_type": "code",
   "execution_count": null,
   "metadata": {},
   "outputs": [],
   "source": [
    "def imprimirMetodoTradicional():\n",
    "    print(\"                                   \" + bold(\"Orden del Grupo G: \" + str(n)) + \"\\n\")\n",
    "    print(bold(\"→ Generadores Cíclicos de G:\"))\n",
    "    print(bold(\"|\") + \" { \" + ', '.join(str(x) for x in GeneradoresGCiclico) + \" } \" + bold(\"|\" + \" = \" + str(numGeneradoresGCiclico))+ \"\\n\")\n",
    "\n",
    "    print(\"Tiempo de ejecución del \" + bold(\"Metodo Tradicional\") + \": \" + str(Tiempo1) + \" segundos.\")\n",
    "    print(bold(\"→ Número de Generadores Cíclicos de G: --- φ(\" + str(n) + \") = \" + str(numGeneradoresGCiclico) + \" ---\"))"
   ]
  },
  {
   "cell_type": "markdown",
   "source": [
    "###### Ejecutar el Método Tradicional:"
   ],
   "metadata": {
    "collapsed": false
   }
  },
  {
   "cell_type": "code",
   "execution_count": null,
   "outputs": [],
   "source": [
    "GeneradoresGCiclico = []\n",
    "numGeneradoresGCiclico=0\n",
    "inicio1 = time.time()\n",
    "\n",
    "for num in Grupo:\n",
    "    if generador(num):\n",
    "        numGeneradoresGCiclico+=1\n",
    "        GeneradoresGCiclico.append(num)\n",
    "\n",
    "fin1 = time.time()\n",
    "Tiempo1 = round(fin1-inicio1,2)\n",
    "\n",
    "imprimirMetodoTradicional()"
   ],
   "metadata": {
    "collapsed": false
   }
  },
  {
   "cell_type": "code",
   "execution_count": null,
   "metadata": {},
   "outputs": [],
   "source": [
    "##### Muchas Gracias. Desarrollado por David Santiago Cruz Hernandez. Correo: dcruzhe@unal.edu.co"
   ]
  }
 ],
 "metadata": {
  "kernelspec": {
   "display_name": "Python 3 (ipykernel)",
   "language": "python",
   "name": "python3"
  },
  "language_info": {
   "codemirror_mode": {
    "name": "ipython",
    "version": 3
   },
   "file_extension": ".py",
   "mimetype": "text/x-python",
   "name": "python",
   "nbconvert_exporter": "python",
   "pygments_lexer": "ipython3",
   "version": "3.9.5"
  }
 },
 "nbformat": 4,
 "nbformat_minor": 1
}
