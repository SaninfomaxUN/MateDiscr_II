{
 "cells": [
  {
   "cell_type": "code",
   "execution_count": 3,
   "outputs": [],
   "source": [
    "def printYellow(str):\n",
    "    return \"\\033[93m\" + str + \"\\033[0m\""
   ],
   "metadata": {
    "collapsed": false
   }
  },
  {
   "cell_type": "code",
   "execution_count": 5,
   "outputs": [
    {
     "name": "stdout",
     "output_type": "stream",
     "text": [
      "Los divisores positivos de \u001B[93m5457\u001B[0m son:\n",
      "[1, 3, 17, 51, 107, 321, 1819, 5457]\n"
     ]
    }
   ],
   "source": [
    "n = int(input())\n",
    "div = []\n",
    "\n",
    "for num in range(1,n+1):\n",
    "    if n%num == 0:\n",
    "        div.append(num)\n",
    "\n",
    "print(\"Los divisores positivos de \" + printYellow(str(n)) + \" son:\")\n",
    "print(div)"
   ],
   "metadata": {
    "collapsed": false
   }
  },
  {
   "cell_type": "code",
   "execution_count": 7,
   "outputs": [],
   "source": [],
   "metadata": {
    "collapsed": false
   }
  }
 ],
 "metadata": {
  "kernelspec": {
   "display_name": "Python 3",
   "language": "python",
   "name": "python3"
  },
  "language_info": {
   "codemirror_mode": {
    "name": "ipython",
    "version": 2
   },
   "file_extension": ".py",
   "mimetype": "text/x-python",
   "name": "python",
   "nbconvert_exporter": "python",
   "pygments_lexer": "ipython2",
   "version": "2.7.6"
  }
 },
 "nbformat": 4,
 "nbformat_minor": 0
}
