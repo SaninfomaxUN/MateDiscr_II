{
 "cells": [
  {
   "cell_type": "markdown",
   "source": [
    "<h1>Taller #5: Algoritmo de Euclides para hallar el Maximo Comín Divisor.</h1>"
   ],
   "metadata": {
    "collapsed": false
   }
  },
  {
   "cell_type": "markdown",
   "source": [
    "<h4> Presentado por: David Santiago Cruz Hernandez</h4>\n",
    "<h4> Asignatura: Matemáticas Discretas II </h4>"
   ],
   "metadata": {
    "collapsed": false
   }
  },
  {
   "cell_type": "code",
   "execution_count": null,
   "outputs": [],
   "source": [
    "import math\n",
    "def ingresarDatos():\n",
    "    global A\n",
    "    global B\n",
    "    A = int(input(\"Ingrese el Primer Número:\"))\n",
    "    B = int(input(\"Ingrese el Segundo Número:\"))"
   ],
   "metadata": {
    "collapsed": false
   }
  },
  {
   "cell_type": "code",
   "execution_count": null,
   "outputs": [],
   "source": [
    "def bold(str):\n",
    "    return \"\\033[1m\" + str + \"\\033[0m\""
   ],
   "metadata": {
    "collapsed": false
   }
  },
  {
   "cell_type": "code",
   "execution_count": null,
   "outputs": [],
   "source": [
    "def printYellow(str):\n",
    "    return \"\\033[93m\" + str + \"\\033[0m\""
   ],
   "metadata": {
    "collapsed": false
   }
  },
  {
   "cell_type": "code",
   "execution_count": null,
   "outputs": [],
   "source": [
    "def imprimirAlgoritmo(a,b,q,r):\n",
    "    if r == 0:\n",
    "        print(str(a) + \" = \" + str(q) + \"•\" + str(b) + \" + \" + bold(str(r)))\n",
    "    elif b%r == 0:\n",
    "        print(str(a) + \" = \" + str(q) + \"•\" + str(b) + \" + \" + printYellow(str(r)))\n",
    "    else:\n",
    "        print(str(a) + \" = \" + str(q) + \"•\" + str(b) + \" + \" + str(r))"
   ],
   "metadata": {
    "collapsed": false
   }
  },
  {
   "cell_type": "code",
   "execution_count": null,
   "outputs": [],
   "source": [
    "def algoritmoDivision(a,b):\n",
    "    q = math.trunc(a/b)\n",
    "    r = a - q*b\n",
    "    imprimirAlgoritmo(a,b,q,r)\n",
    "    return b,r"
   ],
   "metadata": {
    "collapsed": false
   }
  },
  {
   "cell_type": "code",
   "execution_count": null,
   "outputs": [],
   "source": [
    "def algoritmoEuclides():\n",
    "    print(bold(\"Algoritmo de la División:\") + \" a = q•b + r\\n\")\n",
    "    print(bold(\"a = \") + str(A) + \", \" + bold(\"b = \") + str(B)+\"\\n\")\n",
    "    a,b = algoritmoDivision(A,B)\n",
    "    while b != 0:\n",
    "        a,b = algoritmoDivision(a,b)\n",
    "    print(\"\\n\" + bold(\"El Máximo Común Divisor entre \" + str(A) + \" y \" + str(B) + \" es: \") + printYellow(str(a)) + \".\")\n"
   ],
   "metadata": {
    "collapsed": false
   }
  },
  {
   "cell_type": "code",
   "execution_count": null,
   "outputs": [],
   "source": [
    "ingresarDatos()\n",
    "algoritmoEuclides()"
   ],
   "metadata": {
    "collapsed": false
   }
  },
  {
   "cell_type": "code",
   "execution_count": null,
   "outputs": [],
   "source": [],
   "metadata": {
    "collapsed": false
   }
  }
 ],
 "metadata": {
  "kernelspec": {
   "display_name": "Python 3",
   "language": "python",
   "name": "python3"
  },
  "language_info": {
   "codemirror_mode": {
    "name": "ipython",
    "version": 2
   },
   "file_extension": ".py",
   "mimetype": "text/x-python",
   "name": "python",
   "nbconvert_exporter": "python",
   "pygments_lexer": "ipython2",
   "version": "2.7.6"
  }
 },
 "nbformat": 4,
 "nbformat_minor": 0
}
