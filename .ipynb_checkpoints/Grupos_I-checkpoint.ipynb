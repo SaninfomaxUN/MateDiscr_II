{
 "cells": [
  {
   "cell_type": "markdown",
   "metadata": {},
   "source": [
    "<h1>Taller #1: Identificación de grupos a partir de tablas</h1>"
   ]
  },
  {
   "cell_type": "markdown",
   "metadata": {},
   "source": [
    "<h4> Presentado por: David Santiago Cruz Hernandez</h4>\n",
    "<h4> Asignatura: Matematicas Discretas II </h4>"
   ]
  },
  {
   "cell_type": "code",
   "execution_count": 9,
   "metadata": {},
   "outputs": [],
   "source": [
    "Matrix = []\n",
    "Border = []\n",
    "LatinSquare = False\n",
    "Group = False\n",
    "Neutral = False\n",
    "NeutralResult = \"\"\n",
    "Inverse = False\n",
    "Associativity = False"
   ]
  },
  {
   "cell_type": "code",
   "execution_count": null,
   "metadata": {},
   "outputs": [],
   "source": [
    "def verifyInput():\n",
    "    for subList in Matrix:\n",
    "        for element in subList:\n",
    "            if element not in Border:\n",
    "                return False\n",
    "    return True"
   ]
  },
  {
   "cell_type": "code",
   "execution_count": 10,
   "metadata": {},
   "outputs": [],
   "source": [
    "def inputMatrix():\n",
    "    while True:\n",
    "        n = int(input(\"Ingrese el Tamaño n:\"))\n",
    "        Border.append(input(\"Ingrese los elementos del Marco de la Tabla (separados por comas):  \").split(','))\n",
    "        for size in range(n):\n",
    "            Matrix.append(input(\"Ingrese la Fila \" + str(size) + \" (separada por comas):\").split(','))\n",
    "        if verifyInput():\n",
    "            break\n",
    "        else:\n",
    "            print(\"\\n ---- Por favor ingrese una tabla valida!! ---- \\n\")\n",
    "\n",
    "inputMatrix()"
   ]
  },
  {
   "cell_type": "code",
   "execution_count": 11,
   "metadata": {},
   "outputs": [],
   "source": [
    "def returnIcon(answer):\n",
    "    if answer:\n",
    "        return \"✅\"\n",
    "    else:\n",
    "        return \"❌\"\n"
   ]
  },
  {
   "cell_type": "code",
   "execution_count": 12,
   "metadata": {},
   "outputs": [
    {
     "name": "stdout",
     "output_type": "stream",
     "text": [
      "→ Cuadrado Latino: ✅\n"
     ]
    }
   ],
   "source": [
    "def verifyLatinSquare():\n",
    "    n = len(Matrix)\n",
    "    numRepetido = False\n",
    "    for fila in range(n):\n",
    "        listaRevisionFila = []\n",
    "        listaRevisionCol = []\n",
    "        for col in range(n):\n",
    "            if Matrix[fila][col] not in listaRevisionFila:\n",
    "                listaRevisionFila.append(Matrix[fila][col])\n",
    "            else:\n",
    "                numRepetido = True\n",
    "                break\n",
    "\n",
    "            if Matrix[col][fila] not in listaRevisionCol:\n",
    "                listaRevisionCol.append(Matrix[col][fila])\n",
    "            else:\n",
    "                numRepetido = True\n",
    "                break\n",
    "        if numRepetido:\n",
    "            break\n",
    "\n",
    "    if not numRepetido:\n",
    "        global LatinSquare\n",
    "        LatinSquare = True\n",
    "    print(\"→ Cuadrado Latino: \" + returnIcon(LatinSquare))\n",
    "verifyLatinSquare()"
   ]
  },
  {
   "cell_type": "code",
   "execution_count": 13,
   "metadata": {},
   "outputs": [],
   "source": [
    "def getSet():\n",
    "    set = Matrix[0].copy()\n",
    "    return set"
   ]
  },
  {
   "cell_type": "code",
   "execution_count": 14,
   "metadata": {},
   "outputs": [],
   "source": [
    "def getResult(a, b):\n",
    "    fila = Border.index(a)\n",
    "    col = Border.index(b)\n",
    "    return Matrix[fila][col]"
   ]
  },
  {
   "cell_type": "code",
   "execution_count": 15,
   "metadata": {},
   "outputs": [
    {
     "name": "stdout",
     "output_type": "stream",
     "text": [
      "→ El Neutro es: e\n",
      "\n",
      "→ Existe un Elemento Neutro: ✅\n"
     ]
    }
   ],
   "source": [
    "def getNeutral(setG):\n",
    "    global NeutralResult\n",
    "    for posibleNeutro in setG:\n",
    "        contador = 0\n",
    "        for dato in setG:\n",
    "            resultado = getResult(posibleNeutro, dato)\n",
    "            if dato == resultado:\n",
    "                contador = contador + 1\n",
    "                if contador == len(setG):\n",
    "                    NeutralResult = posibleNeutro\n",
    "                    break\n",
    "            else:\n",
    "                break\n",
    "\n",
    "    if NeutralResult != \"\":\n",
    "        print(\"→ El Neutro es: \" + NeutralResult + \"\\n\")\n",
    "        global Neutral\n",
    "        Neutral = True\n",
    "    print(\"→ Existe un Elemento Neutro: \" + returnIcon(Neutral))\n",
    "getNeutral(getSet())"
   ]
  },
  {
   "cell_type": "code",
   "execution_count": 16,
   "metadata": {},
   "outputs": [
    {
     "name": "stdout",
     "output_type": "stream",
     "text": [
      "→ El inverso de e es: e\n",
      "→ El inverso de a es: a\n",
      "→ El inverso de b es: b\n",
      "→ El inverso de c es: c\n",
      "\n",
      "→ Existe un Inverso para cada elemento del Conjunto: ✅\n"
     ]
    }
   ],
   "source": [
    "def getInverse(setG):\n",
    "    listaInversos = []\n",
    "    for dato in setG:\n",
    "        for posibleInverso in setG:\n",
    "            resultado = getResult(posibleInverso, dato)\n",
    "            if resultado == NeutralResult:\n",
    "                if posibleInverso not in listaInversos:\n",
    "                    listaInversos.append(posibleInverso)\n",
    "                    continue\n",
    "                else:\n",
    "                    break\n",
    "    if len(listaInversos) == len(setG):\n",
    "        for pos in range(len(setG)):\n",
    "            print(\"→ El inverso de \" + setG[pos] + \" es: \" + listaInversos[pos])\n",
    "        print()\n",
    "        global Inverse\n",
    "        Inverse = True\n",
    "\n",
    "    print(\"→ Existe un Inverso para cada elemento del Conjunto: \" + returnIcon(Inverse))\n",
    "getInverse(getSet())"
   ]
  },
  {
   "cell_type": "code",
   "execution_count": 17,
   "metadata": {},
   "outputs": [],
   "source": [
    "def printAsssociativity(setG, pos):\n",
    "    operation = \"\"\n",
    "    for times in range(pos):\n",
    "        operation = operation + setG[times] + \"•\"\n",
    "    operation = operation + \"(\" + setG[pos] + \"•\" + setG[pos + 1] + \")\"\n",
    "    for times in range(pos + 2, len(setG)):\n",
    "        operation = operation + \"•\" + setG[times]\n",
    "    print(operation)\n"
   ]
  },
  {
   "cell_type": "code",
   "execution_count": 18,
   "metadata": {},
   "outputs": [],
   "source": [
    "def operateByPos(setG, pos):\n",
    "    right = True\n",
    "    for cont in range(len(setG) - 1):\n",
    "        if not right:\n",
    "            pos = pos - 1\n",
    "        printAsssociativity(setG.copy(), pos)\n",
    "        a = setG.pop(pos)\n",
    "        b = setG.pop(pos)\n",
    "        result = getResult(a, b)\n",
    "        setG.insert(pos, result)\n",
    "\n",
    "        if right:\n",
    "            try:\n",
    "                setG[pos + 1]\n",
    "            except IndexError:\n",
    "                right = False\n",
    "    print(setG[0])\n",
    "    return setG[0]"
   ]
  },
  {
   "cell_type": "code",
   "execution_count": 19,
   "metadata": {},
   "outputs": [
    {
     "name": "stdout",
     "output_type": "stream",
     "text": [
      "→ Asociaciones posibles:\n",
      "\n",
      "(e•a)•b•c\n",
      "(a•b)•c\n",
      "(c•c)\n",
      "e\n",
      "\n",
      "e•(a•b)•c\n",
      "e•(c•c)\n",
      "(e•e)\n",
      "e\n",
      "\n",
      "e•a•(b•c)\n",
      "e•(a•a)\n",
      "(e•e)\n",
      "e\n",
      "\n",
      "→ Resultados de la Asociatividad obtenidos: ['e', 'e', 'e']\n",
      "→ El conjunto es Asociativo: ✅\n"
     ]
    }
   ],
   "source": [
    "def checkAssociativity(setG):\n",
    "    listResults = []\n",
    "    print(\"→ Asociaciones posibles:\\n\")\n",
    "    for pos in range(len(setG) - 1):\n",
    "        listResults.append(operateByPos(setG.copy(), pos))\n",
    "        print()\n",
    "\n",
    "    print(\"→ Resultados de la Asociatividad obtenidos: \" + str(listResults))\n",
    "    associativity = True\n",
    "    for dato in listResults:\n",
    "        if listResults[0] != dato:\n",
    "            associativity = False\n",
    "            break\n",
    "    global Associativity\n",
    "    Associativity = associativity\n",
    "    print(\"→ El conjunto es Asociativo: \" + returnIcon(Associativity))\n",
    "\n",
    "checkAssociativity(getSet())\n"
   ]
  },
  {
   "cell_type": "code",
   "execution_count": 20,
   "metadata": {},
   "outputs": [
    {
     "name": "stdout",
     "output_type": "stream",
     "text": [
      "→ Existe un Elemento Neutro: ✅\n",
      "→ Existe un Inverso para cada elemento del Conjunto: ✅\n",
      "→ Es Asociativo: ✅\n",
      " ------ Por lo tanto, SI es un Grupo. ------ \n",
      "\n"
     ]
    }
   ],
   "source": [
    "print(\"→ Existe un Elemento Neutro: \" + returnIcon(Neutral))\n",
    "\n",
    "print(\"→ Existe un Inverso para cada elemento del Conjunto: \" + returnIcon(Inverse))\n",
    "\n",
    "print(\"→ Es Asociativo: \" + returnIcon(Associativity))\n",
    "Answer = lambda: f\"SI\" if (Neutral and Inverse and Associativity) else f\"NO\"\n",
    "print(\" ------ Por lo tanto, \" + Answer() + \" es un Grupo. ------ \" + \"\\n\")\n"
   ]
  },
  {
   "cell_type": "code",
   "execution_count": 20,
   "metadata": {},
   "outputs": [],
   "source": []
  }
 ],
 "metadata": {
  "kernelspec": {
   "display_name": "Python 3 (ipykernel)",
   "language": "python",
   "name": "python3"
  },
  "language_info": {
   "codemirror_mode": {
    "name": "ipython",
    "version": 3
   },
   "file_extension": ".py",
   "mimetype": "text/x-python",
   "name": "python",
   "nbconvert_exporter": "python",
   "pygments_lexer": "ipython3",
   "version": "3.10.5"
  }
 },
 "nbformat": 4,
 "nbformat_minor": 1
}
