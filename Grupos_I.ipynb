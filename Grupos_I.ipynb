{
 "cells": [
  {
   "cell_type": "markdown",
   "source": [
    "<h1>Taller #1: Identificación de grupos a partir de tablas</h1>"
   ],
   "metadata": {
    "collapsed": false
   }
  },
  {
   "cell_type": "markdown",
   "source": [
    "<h4> Presentado por: David Santiago Cruz Hernandez</h4>\n",
    "<h4> Asignatura: Matematicas Discretas II </h4>"
   ],
   "metadata": {
    "collapsed": false
   }
  },
  {
   "cell_type": "code",
   "execution_count": 1,
   "outputs": [],
   "source": [
    "Matrix = []\n",
    "Border = []\n",
    "LatinSquare = False\n",
    "Group = False\n",
    "Neutral = False\n",
    "NeutralResult = \"\"\n",
    "Inverse = False\n",
    "Associativity = False"
   ],
   "metadata": {
    "collapsed": false
   }
  },
  {
   "cell_type": "code",
   "execution_count": 2,
   "outputs": [],
   "source": [
    "def verifyInput():\n",
    "    for subList in Matrix:\n",
    "        for element in subList:\n",
    "            if element not in Border:\n",
    "                return False\n",
    "    return True"
   ],
   "metadata": {
    "collapsed": false
   }
  },
  {
   "cell_type": "markdown",
   "source": [
    "###### Ingreso de los datos:\n",
    "###### Se deben ingresar los datos correspondientes a la tabla, separados por comas y sin espacios (como lo indica cada instrucción de cada entrada)."
   ],
   "metadata": {
    "collapsed": false
   }
  },
  {
   "cell_type": "code",
   "execution_count": 3,
   "outputs": [],
   "source": [
    "def inputMatrix():\n",
    "    while True:\n",
    "        n = int(input(\"Ingrese el Tamaño n:\"))\n",
    "        global Border\n",
    "        Border = input(\"Ingrese los elementos del Marco de la Tabla (separados por comas):  \").split(',')\n",
    "        for size in range(n):\n",
    "            Matrix.append(input(\"Ingrese la Fila \" + str(size) + \" (separada por comas):\").split(','))\n",
    "        if verifyInput():\n",
    "            break\n",
    "        else:\n",
    "            print(\"\\n ---- Por favor ingrese una tabla valida!! ---- \\n\")\n",
    "\n",
    "inputMatrix()"
   ],
   "metadata": {
    "collapsed": false
   }
  },
  {
   "cell_type": "code",
   "execution_count": 4,
   "outputs": [],
   "source": [
    "def returnIcon(answer):\n",
    "    if answer:\n",
    "        return \"✅\"\n",
    "    else:\n",
    "        return \"❌\"\n"
   ],
   "metadata": {
    "collapsed": false
   }
  },
  {
   "cell_type": "markdown",
   "source": [
    "## Cuadrado Latino:\n",
    "### Se realiza el análisis para determinar si la tabla corresponde a un cuadrado latino."
   ],
   "metadata": {
    "collapsed": false
   }
  },
  {
   "cell_type": "code",
   "execution_count": 5,
   "outputs": [
    {
     "name": "stdout",
     "output_type": "stream",
     "text": [
      "→ Cuadrado Latino: ✅\n"
     ]
    }
   ],
   "source": [
    "def verifyLatinSquare():\n",
    "    n = len(Matrix)\n",
    "    numRepetido = False\n",
    "    for fila in range(n):\n",
    "        listaRevisionFila = []\n",
    "        listaRevisionCol = []\n",
    "        for col in range(n):\n",
    "            if Matrix[fila][col] not in listaRevisionFila:\n",
    "                listaRevisionFila.append(Matrix[fila][col])\n",
    "            else:\n",
    "                numRepetido = True\n",
    "                break\n",
    "\n",
    "            if Matrix[col][fila] not in listaRevisionCol:\n",
    "                listaRevisionCol.append(Matrix[col][fila])\n",
    "            else:\n",
    "                numRepetido = True\n",
    "                break\n",
    "        if numRepetido:\n",
    "            break\n",
    "\n",
    "    if not numRepetido:\n",
    "        global LatinSquare\n",
    "        LatinSquare = True\n",
    "    print(\"→ Cuadrado Latino: \" + returnIcon(LatinSquare))\n",
    "verifyLatinSquare()"
   ],
   "metadata": {
    "collapsed": false
   }
  },
  {
   "cell_type": "markdown",
   "source": [
    "## Grupo:\n",
    "### Se realizan los análisis y cálculos necesarios para determinar si la tabla corresponde a un grupo."
   ],
   "metadata": {
    "collapsed": false
   }
  },
  {
   "cell_type": "code",
   "execution_count": 6,
   "outputs": [],
   "source": [
    "#### NEUTRO: Se comprueba si existe un elemento e ∈ G, tal que e•a=a, ∀ a ∈ G."
   ],
   "metadata": {
    "collapsed": false
   }
  },
  {
   "cell_type": "code",
   "execution_count": 7,
   "outputs": [],
   "source": [
    "def getSet():\n",
    "    set = Matrix[0].copy()\n",
    "    return set"
   ],
   "metadata": {
    "collapsed": false
   }
  },
  {
   "cell_type": "code",
   "execution_count": 8,
   "outputs": [],
   "source": [
    "def getResult(a, b):\n",
    "    fila = Border.index(a)\n",
    "    col = Border.index(b)\n",
    "    return Matrix[fila][col]"
   ],
   "metadata": {
    "collapsed": false
   }
  },
  {
   "cell_type": "code",
   "execution_count": 9,
   "outputs": [
    {
     "name": "stdout",
     "output_type": "stream",
     "text": [
      "→ El Neutro es: 1\n",
      "\n",
      "→ Existe un Elemento Neutro: ✅\n"
     ]
    }
   ],
   "source": [
    "def getNeutral(setG):\n",
    "    global NeutralResult\n",
    "    for posibleNeutro in setG:\n",
    "        contador = 0\n",
    "        for dato in setG:\n",
    "            resultado = getResult(posibleNeutro, dato)\n",
    "            if dato == resultado:\n",
    "                contador = contador + 1\n",
    "                if contador == len(setG):\n",
    "                    NeutralResult = posibleNeutro\n",
    "                    break\n",
    "            else:\n",
    "                break\n",
    "\n",
    "    if NeutralResult != \"\":\n",
    "        print(\"→ El Neutro es: \" + NeutralResult + \"\\n\")\n",
    "        global Neutral\n",
    "        Neutral = True\n",
    "    print(\"→ Existe un Elemento Neutro: \" + returnIcon(Neutral))\n",
    "getNeutral(getSet())"
   ],
   "metadata": {
    "collapsed": false
   }
  },
  {
   "cell_type": "code",
   "execution_count": 10,
   "outputs": [],
   "source": [
    "#### INVERSO: Se comprueba si ∀ a ∈ G, existe un elemento unico b ∈ G, tal que b•a=e (elemento Neutro previamente calculado)."
   ],
   "metadata": {
    "collapsed": false
   }
  },
  {
   "cell_type": "code",
   "execution_count": 11,
   "outputs": [
    {
     "name": "stdout",
     "output_type": "stream",
     "text": [
      "→ El Inverso de 1 es: 1\n",
      "→ El Inverso de i es: -i\n",
      "→ El Inverso de -1 es: -1\n",
      "→ El Inverso de -i es: i\n",
      "\n",
      "→ Existe un Inverso único para cada elemento del Conjunto: ✅\n"
     ]
    }
   ],
   "source": [
    "def getInverse(setG):\n",
    "    listaInversos = []\n",
    "    for dato in setG:\n",
    "        for posibleInverso in setG:\n",
    "            resultado = getResult(posibleInverso, dato)\n",
    "            if resultado == NeutralResult:\n",
    "                if posibleInverso not in listaInversos:\n",
    "                    listaInversos.append(posibleInverso)\n",
    "                    continue\n",
    "                else:\n",
    "                    break\n",
    "    if len(listaInversos) == len(setG):\n",
    "        for pos in range(len(setG)):\n",
    "            print(\"→ El Inverso de \" + setG[pos] + \" es: \" + listaInversos[pos])\n",
    "        print()\n",
    "        global Inverse\n",
    "        Inverse = True\n",
    "\n",
    "    print(\"→ Existe un Inverso único para cada elemento del Conjunto: \" + returnIcon(Inverse))\n",
    "getInverse(getSet())"
   ],
   "metadata": {
    "collapsed": false
   }
  },
  {
   "cell_type": "code",
   "execution_count": 12,
   "outputs": [],
   "source": [
    "#### ASOCIATIVIDAD: Se comprueba si ∀ a,b,c ∈ G (o en su defecto, todo el conjunto de los demas elementos), se tiene que (a•b)•c = a•(b•c)."
   ],
   "metadata": {
    "collapsed": false
   }
  },
  {
   "cell_type": "code",
   "execution_count": 13,
   "outputs": [],
   "source": [
    "def printAsssociativity(setG, pos):\n",
    "    operation = \"\"\n",
    "    for times in range(pos):\n",
    "        operation = operation + setG[times] + \"•\"\n",
    "    operation = operation + \"(\" + setG[pos] + \"•\" + setG[pos + 1] + \")\"\n",
    "    for times in range(pos + 2, len(setG)):\n",
    "        operation = operation + \"•\" + setG[times]\n",
    "    print(operation)\n"
   ],
   "metadata": {
    "collapsed": false
   }
  },
  {
   "cell_type": "code",
   "execution_count": 14,
   "outputs": [],
   "source": [
    "def operateByPos(setG, pos):\n",
    "    right = True\n",
    "    for cont in range(len(setG) - 1):\n",
    "        if not right:\n",
    "            pos = pos - 1\n",
    "        printAsssociativity(setG.copy(), pos)\n",
    "        a = setG.pop(pos)\n",
    "        b = setG.pop(pos)\n",
    "        result = getResult(a, b)\n",
    "        setG.insert(pos, result)\n",
    "\n",
    "        if right:\n",
    "            try:\n",
    "                setG[pos + 1]\n",
    "            except IndexError:\n",
    "                right = False\n",
    "    print(setG[0])\n",
    "    return setG[0]"
   ],
   "metadata": {
    "collapsed": false
   }
  },
  {
   "cell_type": "code",
   "execution_count": 15,
   "outputs": [
    {
     "name": "stdout",
     "output_type": "stream",
     "text": [
      "→ Asociaciones posibles:\n",
      "\n",
      "(1•i)•-1•-i\n",
      "(i•-1)•-i\n",
      "(-i•-i)\n",
      "-1\n",
      "\n",
      "1•(i•-1)•-i\n",
      "1•(-i•-i)\n",
      "(1•-1)\n",
      "-1\n",
      "\n",
      "1•i•(-1•-i)\n",
      "1•(i•i)\n",
      "(1•-1)\n",
      "-1\n",
      "\n",
      "→ Resultados de la Asociatividad obtenidos: ['-1', '-1', '-1']\n",
      "→ El conjunto es Asociativo: ✅\n",
      "\n"
     ]
    }
   ],
   "source": [
    "def checkAssociativity(setG):\n",
    "    listResults = []\n",
    "    print(\"→ Asociaciones posibles:\\n\")\n",
    "    for pos in range(len(setG) - 1):\n",
    "        listResults.append(operateByPos(setG.copy(), pos))\n",
    "        print()\n",
    "\n",
    "    print(\"→ Resultados de la Asociatividad obtenidos: \" + str(listResults))\n",
    "    associativity = True\n",
    "    for dato in listResults:\n",
    "        if listResults[0] != dato:\n",
    "            associativity = False\n",
    "            break\n",
    "    global Associativity\n",
    "    Associativity = associativity\n",
    "    print(\"→ El conjunto es Asociativo: \" + returnIcon(Associativity) + \"\\n\")\n",
    "\n",
    "checkAssociativity(getSet())\n"
   ],
   "metadata": {
    "collapsed": false
   }
  },
  {
   "cell_type": "markdown",
   "source": [
    "## Resultados Obtenidos:"
   ],
   "metadata": {
    "collapsed": false
   }
  },
  {
   "cell_type": "code",
   "execution_count": 19,
   "outputs": [
    {
     "name": "stdout",
     "output_type": "stream",
     "text": [
      "→ Cuadrado Latino: ✅\n",
      "\n",
      "→ Existe un Elemento Neutro: ✅\n",
      "→ Existe un Inverso para cada elemento del Conjunto: ✅\n",
      "→ Es Asociativo: ✅\n",
      " ------ Por lo tanto, SI ES UN GRUPO. ------ \n",
      "\n"
     ]
    }
   ],
   "source": [
    "print(\"→ Cuadrado Latino: \" + returnIcon(LatinSquare))\n",
    "print()\n",
    "\n",
    "print(\"→ Existe un Elemento Neutro: \" + returnIcon(Neutral))\n",
    "\n",
    "print(\"→ Existe un Inverso para cada elemento del Conjunto: \" + returnIcon(Inverse))\n",
    "\n",
    "print(\"→ Es Asociativo: \" + returnIcon(Associativity))\n",
    "Answer = lambda: f\"SI\" if (Neutral and Inverse and Associativity) else f\"NO\"\n",
    "print(\" ------ Por lo tanto, \" + Answer() + \" es un Grupo. ------ \" + \"\\n\")\n"
   ],
   "metadata": {
    "collapsed": false
   }
  },
  {
   "cell_type": "code",
   "execution_count": 20,
   "outputs": [],
   "source": [
    "##### Muchas Gracias. Desarrollado por David Santiago Cruz Hernandez. Correo: dcruzhe@unal.edu.co"
   ],
   "metadata": {
    "collapsed": false
   }
  }
 ],
 "metadata": {
  "kernelspec": {
   "display_name": "Python 3",
   "language": "python",
   "name": "python3"
  },
  "language_info": {
   "codemirror_mode": {
    "name": "ipython",
    "version": 2
   },
   "file_extension": ".py",
   "mimetype": "text/x-python",
   "name": "python",
   "nbconvert_exporter": "python",
   "pygments_lexer": "ipython2",
   "version": "2.7.6"
  }
 },
 "nbformat": 4,
 "nbformat_minor": 0
}
